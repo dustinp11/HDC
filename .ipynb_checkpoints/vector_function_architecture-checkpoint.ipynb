{
 "cells": [
  {
   "cell_type": "code",
   "execution_count": 1,
   "id": "9ffc7e56-2552-4e09-8301-35ee0b52d726",
   "metadata": {},
   "outputs": [],
   "source": [
    "import torchhd as hd\n",
    "import torch\n",
    "import string\n",
    "import numpy as np\n",
    "import pandas as pd\n",
    "import altair as alt"
   ]
  },
  {
   "cell_type": "markdown",
   "id": "ec091d09-ff9e-4876-a3ab-dfb2d67eca63",
   "metadata": {},
   "source": [
    "## Complex Hypervector Representation"
   ]
  },
  {
   "cell_type": "code",
   "execution_count": 3,
   "id": "ea54608e-189f-4b0a-8977-daf2d30759bf",
   "metadata": {},
   "outputs": [],
   "source": [
    "# generate a complex hypervector\n",
    "# represented as e^(i * theta) where theta between 0 and 2pi.\n",
    "def generate_hvs(dim):\n",
    "    angles = np.random.uniform(0, 2 * np.pi, dim)\n",
    "    return np.exp(1j * angles)"
   ]
  },
  {
   "cell_type": "code",
   "execution_count": 4,
   "id": "bfa5ff33-7d1e-43fe-a6d3-f144556388b7",
   "metadata": {},
   "outputs": [
    {
     "name": "stdout",
     "output_type": "stream",
     "text": [
      "[ 0.77680836-0.62973706j  0.54382961+0.83919566j -0.65406039-0.75644234j\n",
      "  0.87614283-0.4820516j  -0.99707016+0.07649242j]\n"
     ]
    }
   ],
   "source": [
    "dim = 5 # low dim to demonstrate that it works\n",
    "hx = generate_hvs(dim)\n",
    "print(hx)"
   ]
  },
  {
   "cell_type": "markdown",
   "id": "884f213e-a690-4632-a6e2-7ea8b5949d0d",
   "metadata": {},
   "source": [
    "## Binding, bundling, and similarity in FHRR"
   ]
  },
  {
   "cell_type": "code",
   "execution_count": 5,
   "id": "2a88e8e7-29b5-419a-9625-a5f1cabd4279",
   "metadata": {},
   "outputs": [],
   "source": [
    "# elementwise multiplication\n",
    "def binding(*hvs): \n",
    "    result = np.ones_like(hvs[0], dtype=complex)\n",
    "    for hv in hvs:\n",
    "        result *= hv\n",
    "    return result\n",
    "\n",
    "# elementwise sum\n",
    "def bundle(*hvs):\n",
    "    bundles = np.sum(hvs, axis=0)\n",
    "    return bundles \n",
    "\n",
    "# define similarity as the real part of the Hermitian inner product of hx and hy divided by the dim of hx\n",
    "def similarity(hx, hy):\n",
    "    conjugate = np.conjugate(hy)\n",
    "    return np.real(np.dot(hx, conjugate)) / len(hx)"
   ]
  },
  {
   "cell_type": "markdown",
   "id": "2f4395ea-6f9e-4159-8e1d-75b51a9dcc6a",
   "metadata": {},
   "source": [
    "Verify basic properties of bundling and binding. <br>\n",
    "1. $\\delta(A\\odot B, A)$ is nearly 0 (orthogonal)\n",
    "2. $\\delta(A\\oplus B, A)$ is nearly 1 (bundling allows memorization)"
   ]
  },
  {
   "cell_type": "code",
   "execution_count": 6,
   "id": "57b78c62-78ec-4f70-9259-e20b2f520eaa",
   "metadata": {},
   "outputs": [
    {
     "name": "stdout",
     "output_type": "stream",
     "text": [
      "Similarity between A and B (should be near 0): 0.005653156757158637\n",
      "Simlarity between A*B and A (should be near 0): 0.010098862887289482\n",
      "Similarity between A*B*B and A (should be near 1): 1.0\n"
     ]
    }
   ],
   "source": [
    "dim = 1000\n",
    "A = generate_hvs(dim)\n",
    "B = generate_hvs(dim)\n",
    "bound = binding(A, B)\n",
    "print(f\"Similarity between A and B (should be near 0): {similarity(A, B)}\")\n",
    "print(f\"Simlarity between A*B and A (should be near 0): {similarity(bound, A)}\")\n",
    "\n",
    "retrieve_a = binding(bound, np.conjugate(B)) # retrieve by binding with complex conjugate of B\n",
    "print(f\"Similarity between A*B*B and A (should be near 1): {similarity(retrieve_a, A)}\")"
   ]
  },
  {
   "cell_type": "markdown",
   "id": "041f1955-1878-49ba-9258-ea2d31f09f79",
   "metadata": {},
   "source": [
    "## Fractional Power Encoding"
   ]
  },
  {
   "cell_type": "code",
   "execution_count": 7,
   "id": "76274acc-095a-4d56-8a3d-5b0efa9ffa8d",
   "metadata": {},
   "outputs": [],
   "source": [
    "def fractional_power(h, alpha):\n",
    "    angle = np.angle(h)\n",
    "    return np.exp(1j * alpha * angle)"
   ]
  },
  {
   "cell_type": "markdown",
   "id": "20c28358-3c75-44e6-9e06-a255befbd14d",
   "metadata": {},
   "source": [
    "## Experiment 1: Similarity vs Fractional Power"
   ]
  },
  {
   "cell_type": "markdown",
   "id": "d89ba4a0-1e35-4fce-a9af-2d80dae7fe28",
   "metadata": {},
   "source": [
    "i) Comparing simlarity of $\\delta(h_x^0, h_x^\\alpha)$ where $\\alpha$ varies between -10 and 10"
   ]
  },
  {
   "cell_type": "code",
   "execution_count": 8,
   "id": "d07ba065-6482-4073-a1f2-62bc5b64862c",
   "metadata": {},
   "outputs": [
    {
     "data": {
      "text/html": [
       "\n",
       "<style>\n",
       "  #altair-viz-279b341a50254d5eb067f5873dbb850b.vega-embed {\n",
       "    width: 100%;\n",
       "    display: flex;\n",
       "  }\n",
       "\n",
       "  #altair-viz-279b341a50254d5eb067f5873dbb850b.vega-embed details,\n",
       "  #altair-viz-279b341a50254d5eb067f5873dbb850b.vega-embed details summary {\n",
       "    position: relative;\n",
       "  }\n",
       "</style>\n",
       "<div id=\"altair-viz-279b341a50254d5eb067f5873dbb850b\"></div>\n",
       "<script type=\"text/javascript\">\n",
       "  var VEGA_DEBUG = (typeof VEGA_DEBUG == \"undefined\") ? {} : VEGA_DEBUG;\n",
       "  (function(spec, embedOpt){\n",
       "    let outputDiv = document.currentScript.previousElementSibling;\n",
       "    if (outputDiv.id !== \"altair-viz-279b341a50254d5eb067f5873dbb850b\") {\n",
       "      outputDiv = document.getElementById(\"altair-viz-279b341a50254d5eb067f5873dbb850b\");\n",
       "    }\n",
       "    const paths = {\n",
       "      \"vega\": \"https://cdn.jsdelivr.net/npm/vega@5?noext\",\n",
       "      \"vega-lib\": \"https://cdn.jsdelivr.net/npm/vega-lib?noext\",\n",
       "      \"vega-lite\": \"https://cdn.jsdelivr.net/npm/vega-lite@5.8.0?noext\",\n",
       "      \"vega-embed\": \"https://cdn.jsdelivr.net/npm/vega-embed@6?noext\",\n",
       "    };\n",
       "\n",
       "    function maybeLoadScript(lib, version) {\n",
       "      var key = `${lib.replace(\"-\", \"\")}_version`;\n",
       "      return (VEGA_DEBUG[key] == version) ?\n",
       "        Promise.resolve(paths[lib]) :\n",
       "        new Promise(function(resolve, reject) {\n",
       "          var s = document.createElement('script');\n",
       "          document.getElementsByTagName(\"head\")[0].appendChild(s);\n",
       "          s.async = true;\n",
       "          s.onload = () => {\n",
       "            VEGA_DEBUG[key] = version;\n",
       "            return resolve(paths[lib]);\n",
       "          };\n",
       "          s.onerror = () => reject(`Error loading script: ${paths[lib]}`);\n",
       "          s.src = paths[lib];\n",
       "        });\n",
       "    }\n",
       "\n",
       "    function showError(err) {\n",
       "      outputDiv.innerHTML = `<div class=\"error\" style=\"color:red;\">${err}</div>`;\n",
       "      throw err;\n",
       "    }\n",
       "\n",
       "    function displayChart(vegaEmbed) {\n",
       "      vegaEmbed(outputDiv, spec, embedOpt)\n",
       "        .catch(err => showError(`Javascript Error: ${err.message}<br>This usually means there's a typo in your chart specification. See the javascript console for the full traceback.`));\n",
       "    }\n",
       "\n",
       "    if(typeof define === \"function\" && define.amd) {\n",
       "      requirejs.config({paths});\n",
       "      require([\"vega-embed\"], displayChart, err => showError(`Error loading script: ${err.message}`));\n",
       "    } else {\n",
       "      maybeLoadScript(\"vega\", \"5\")\n",
       "        .then(() => maybeLoadScript(\"vega-lite\", \"5.8.0\"))\n",
       "        .then(() => maybeLoadScript(\"vega-embed\", \"6\"))\n",
       "        .catch(showError)\n",
       "        .then(() => displayChart(vegaEmbed));\n",
       "    }\n",
       "  })({\"config\": {\"view\": {\"continuousWidth\": 300, \"continuousHeight\": 300}}, \"data\": {\"name\": \"data-2352883f3d790a6c5891196a3ddbbb77\"}, \"mark\": {\"type\": \"line\", \"color\": \"blue\", \"interpolate\": \"monotone\"}, \"encoding\": {\"x\": {\"field\": \"Alphas\", \"type\": \"quantitative\"}, \"y\": {\"field\": \"Similarities\", \"type\": \"quantitative\"}}, \"title\": \"Similarities of hx and hx^alpha\", \"$schema\": \"https://vega.github.io/schema/vega-lite/v5.8.0.json\", \"datasets\": {\"data-2352883f3d790a6c5891196a3ddbbb77\": [{\"Alphas\": -10.0, \"Similarities\": -0.0124191179612505}, {\"Alphas\": -9.0, \"Similarities\": -0.014826803915206984}, {\"Alphas\": -8.0, \"Similarities\": 0.10395266678740656}, {\"Alphas\": -7.0, \"Similarities\": -0.01719476439015746}, {\"Alphas\": -6.0, \"Similarities\": 0.02324522965799633}, {\"Alphas\": -5.0, \"Similarities\": 0.01625367924541741}, {\"Alphas\": -4.0, \"Similarities\": -0.06065454826581585}, {\"Alphas\": -3.0, \"Similarities\": -0.010349114782158785}, {\"Alphas\": -2.0, \"Similarities\": 0.020340314855414477}, {\"Alphas\": -1.0, \"Similarities\": 0.011577861316845316}, {\"Alphas\": 0.0, \"Similarities\": 0.021314538759541354}, {\"Alphas\": 1.0, \"Similarities\": 1.0000000000000002}, {\"Alphas\": 2.0, \"Similarities\": 0.021314538759541337}, {\"Alphas\": 3.0, \"Similarities\": 0.011577861316845208}, {\"Alphas\": 4.0, \"Similarities\": 0.02034031485541445}, {\"Alphas\": 5.0, \"Similarities\": -0.010349114782158808}, {\"Alphas\": 6.0, \"Similarities\": -0.06065454826581588}, {\"Alphas\": 7.0, \"Similarities\": 0.0162536792454174}, {\"Alphas\": 8.0, \"Similarities\": 0.023245229657996292}, {\"Alphas\": 9.0, \"Similarities\": -0.0171947643901574}, {\"Alphas\": 10.0, \"Similarities\": 0.1039526667874066}]}}, {\"mode\": \"vega-lite\"});\n",
       "</script>"
      ],
      "text/plain": [
       "alt.Chart(...)"
      ]
     },
     "execution_count": 8,
     "metadata": {},
     "output_type": "execute_result"
    }
   ],
   "source": [
    "dim = 500\n",
    "hx = generate_hvs(dim)\n",
    "\n",
    "# alpha in [-10, 10] with step sibe 1\n",
    "alphas = np.linspace(-10, 10, 21)\n",
    "\n",
    "# get similarities for all fractional powers\n",
    "similarities = [similarity(hx, fractional_power(hx, alpha)) for alpha in alphas]\n",
    "\n",
    "\n",
    "# put into dataframe and make into altair chart\n",
    "df = pd.DataFrame({\"Alphas\": alphas, \"Similarities\": similarities})\n",
    "\n",
    "chart = alt.Chart(df).mark_line(interpolate=\"monotone\", color=\"blue\").encode(\n",
    "    x = \"Alphas\",\n",
    "    y = \"Similarities\"\n",
    ").properties(\n",
    "    title = \"Similarities of hx and hx^alpha\"\n",
    ")\n",
    "chart"
   ]
  },
  {
   "cell_type": "markdown",
   "id": "5659f77e-980c-4c06-86bc-8b10c204dc7f",
   "metadata": {},
   "source": [
    "ii) Creating heatmap of $\\delta(h_x^0 \\odot h_y^0, h_x^\\alpha \\odot h_y^\\beta)$, where $\\alpha, \\beta$ varies from -10 to 10"
   ]
  },
  {
   "cell_type": "code",
   "execution_count": 9,
   "id": "fb46cbf6-b1ae-4982-87a8-dfb4b404a4a2",
   "metadata": {},
   "outputs": [
    {
     "data": {
      "text/html": [
       "\n",
       "<style>\n",
       "  #altair-viz-ef66474c869d45be902f1b2b0ebf3b3e.vega-embed {\n",
       "    width: 100%;\n",
       "    display: flex;\n",
       "  }\n",
       "\n",
       "  #altair-viz-ef66474c869d45be902f1b2b0ebf3b3e.vega-embed details,\n",
       "  #altair-viz-ef66474c869d45be902f1b2b0ebf3b3e.vega-embed details summary {\n",
       "    position: relative;\n",
       "  }\n",
       "</style>\n",
       "<div id=\"altair-viz-ef66474c869d45be902f1b2b0ebf3b3e\"></div>\n",
       "<script type=\"text/javascript\">\n",
       "  var VEGA_DEBUG = (typeof VEGA_DEBUG == \"undefined\") ? {} : VEGA_DEBUG;\n",
       "  (function(spec, embedOpt){\n",
       "    let outputDiv = document.currentScript.previousElementSibling;\n",
       "    if (outputDiv.id !== \"altair-viz-ef66474c869d45be902f1b2b0ebf3b3e\") {\n",
       "      outputDiv = document.getElementById(\"altair-viz-ef66474c869d45be902f1b2b0ebf3b3e\");\n",
       "    }\n",
       "    const paths = {\n",
       "      \"vega\": \"https://cdn.jsdelivr.net/npm/vega@5?noext\",\n",
       "      \"vega-lib\": \"https://cdn.jsdelivr.net/npm/vega-lib?noext\",\n",
       "      \"vega-lite\": \"https://cdn.jsdelivr.net/npm/vega-lite@5.8.0?noext\",\n",
       "      \"vega-embed\": \"https://cdn.jsdelivr.net/npm/vega-embed@6?noext\",\n",
       "    };\n",
       "\n",
       "    function maybeLoadScript(lib, version) {\n",
       "      var key = `${lib.replace(\"-\", \"\")}_version`;\n",
       "      return (VEGA_DEBUG[key] == version) ?\n",
       "        Promise.resolve(paths[lib]) :\n",
       "        new Promise(function(resolve, reject) {\n",
       "          var s = document.createElement('script');\n",
       "          document.getElementsByTagName(\"head\")[0].appendChild(s);\n",
       "          s.async = true;\n",
       "          s.onload = () => {\n",
       "            VEGA_DEBUG[key] = version;\n",
       "            return resolve(paths[lib]);\n",
       "          };\n",
       "          s.onerror = () => reject(`Error loading script: ${paths[lib]}`);\n",
       "          s.src = paths[lib];\n",
       "        });\n",
       "    }\n",
       "\n",
       "    function showError(err) {\n",
       "      outputDiv.innerHTML = `<div class=\"error\" style=\"color:red;\">${err}</div>`;\n",
       "      throw err;\n",
       "    }\n",
       "\n",
       "    function displayChart(vegaEmbed) {\n",
       "      vegaEmbed(outputDiv, spec, embedOpt)\n",
       "        .catch(err => showError(`Javascript Error: ${err.message}<br>This usually means there's a typo in your chart specification. See the javascript console for the full traceback.`));\n",
       "    }\n",
       "\n",
       "    if(typeof define === \"function\" && define.amd) {\n",
       "      requirejs.config({paths});\n",
       "      require([\"vega-embed\"], displayChart, err => showError(`Error loading script: ${err.message}`));\n",
       "    } else {\n",
       "      maybeLoadScript(\"vega\", \"5\")\n",
       "        .then(() => maybeLoadScript(\"vega-lite\", \"5.8.0\"))\n",
       "        .then(() => maybeLoadScript(\"vega-embed\", \"6\"))\n",
       "        .catch(showError)\n",
       "        .then(() => displayChart(vegaEmbed));\n",
       "    }\n",
       "  })({\"config\": {\"view\": {\"continuousWidth\": 300, \"continuousHeight\": 300}}, \"data\": {\"name\": \"data-66d57e349da06abe8dbf4014ef9ef60f\"}, \"mark\": {\"type\": \"rect\"}, \"encoding\": {\"color\": {\"field\": \"Similarity\", \"scale\": {\"scheme\": \"viridis\"}, \"title\": \"Similarity\", \"type\": \"quantitative\"}, \"tooltip\": [{\"field\": \"Alpha\", \"type\": \"quantitative\"}, {\"field\": \"Beta\", \"type\": \"quantitative\"}, {\"field\": \"Similarity\", \"type\": \"quantitative\"}], \"x\": {\"field\": \"Alpha\", \"title\": \"Alpha\", \"type\": \"ordinal\"}, \"y\": {\"field\": \"Beta\", \"title\": \"Beta\", \"type\": \"ordinal\"}}, \"title\": \"Heatmap of Similarities\", \"$schema\": \"https://vega.github.io/schema/vega-lite/v5.8.0.json\", \"datasets\": {\"data-66d57e349da06abe8dbf4014ef9ef60f\": [{\"Alpha\": -10.0, \"Beta\": -10.0, \"Similarity\": 0.04399941836320653}, {\"Alpha\": -10.0, \"Beta\": -9.0, \"Similarity\": 0.048204864724413876}, {\"Alpha\": -10.0, \"Beta\": -8.0, \"Similarity\": -0.04424401162576403}, {\"Alpha\": -10.0, \"Beta\": -7.0, \"Similarity\": 0.026562498987190607}, {\"Alpha\": -10.0, \"Beta\": -6.0, \"Similarity\": -0.07196148560503242}, {\"Alpha\": -10.0, \"Beta\": -5.0, \"Similarity\": -0.03923176174259545}, {\"Alpha\": -10.0, \"Beta\": -4.0, \"Similarity\": 0.011823824627364175}, {\"Alpha\": -10.0, \"Beta\": -3.0, \"Similarity\": 0.010592068657250955}, {\"Alpha\": -10.0, \"Beta\": -2.0, \"Similarity\": 0.007846806693991093}, {\"Alpha\": -10.0, \"Beta\": -1.0, \"Similarity\": -0.007900285270648531}, {\"Alpha\": -10.0, \"Beta\": 0.0, \"Similarity\": 0.00964909915844953}, {\"Alpha\": -10.0, \"Beta\": 1.0, \"Similarity\": 0.012352238608512306}, {\"Alpha\": -10.0, \"Beta\": 2.0, \"Similarity\": -0.009179689523693066}, {\"Alpha\": -10.0, \"Beta\": 3.0, \"Similarity\": -0.009024970086193386}, {\"Alpha\": -10.0, \"Beta\": 4.0, \"Similarity\": -1.053470678101931e-05}, {\"Alpha\": -10.0, \"Beta\": 5.0, \"Similarity\": -0.02016740798748975}, {\"Alpha\": -10.0, \"Beta\": 6.0, \"Similarity\": -0.03545148653618892}, {\"Alpha\": -10.0, \"Beta\": 7.0, \"Similarity\": -0.014722582519454795}, {\"Alpha\": -10.0, \"Beta\": 8.0, \"Similarity\": -0.014545581315595104}, {\"Alpha\": -10.0, \"Beta\": 9.0, \"Similarity\": 0.029181242025319652}, {\"Alpha\": -10.0, \"Beta\": 10.0, \"Similarity\": 0.0030374929488885647}, {\"Alpha\": -9.0, \"Beta\": -10.0, \"Similarity\": -0.031663292002499455}, {\"Alpha\": -9.0, \"Beta\": -9.0, \"Similarity\": 0.09659820763491717}, {\"Alpha\": -9.0, \"Beta\": -8.0, \"Similarity\": 0.021799299704320096}, {\"Alpha\": -9.0, \"Beta\": -7.0, \"Similarity\": -0.01962106470195507}, {\"Alpha\": -9.0, \"Beta\": -6.0, \"Similarity\": -0.03467490164844656}, {\"Alpha\": -9.0, \"Beta\": -5.0, \"Similarity\": 0.041318310622512545}, {\"Alpha\": -9.0, \"Beta\": -4.0, \"Similarity\": -0.05169774056264096}, {\"Alpha\": -9.0, \"Beta\": -3.0, \"Similarity\": 0.015908943837234454}, {\"Alpha\": -9.0, \"Beta\": -2.0, \"Similarity\": 0.04211427758727123}, {\"Alpha\": -9.0, \"Beta\": -1.0, \"Similarity\": 0.006677988672798698}, {\"Alpha\": -9.0, \"Beta\": 0.0, \"Similarity\": 0.02302850718181498}, {\"Alpha\": -9.0, \"Beta\": 1.0, \"Similarity\": -0.009809384386160998}, {\"Alpha\": -9.0, \"Beta\": 2.0, \"Similarity\": -0.03211812613719618}, {\"Alpha\": -9.0, \"Beta\": 3.0, \"Similarity\": -0.026754866313567688}, {\"Alpha\": -9.0, \"Beta\": 4.0, \"Similarity\": 0.030257735470263395}, {\"Alpha\": -9.0, \"Beta\": 5.0, \"Similarity\": -0.05232198600983971}, {\"Alpha\": -9.0, \"Beta\": 6.0, \"Similarity\": -0.035216528955823126}, {\"Alpha\": -9.0, \"Beta\": 7.0, \"Similarity\": 0.006887296928675656}, {\"Alpha\": -9.0, \"Beta\": 8.0, \"Similarity\": -0.07060761463903395}, {\"Alpha\": -9.0, \"Beta\": 9.0, \"Similarity\": -0.016542632678279604}, {\"Alpha\": -9.0, \"Beta\": 10.0, \"Similarity\": 0.01725604574463449}, {\"Alpha\": -8.0, \"Beta\": -10.0, \"Similarity\": -0.00785318834664796}, {\"Alpha\": -8.0, \"Beta\": -9.0, \"Similarity\": -0.01320046060351241}, {\"Alpha\": -8.0, \"Beta\": -8.0, \"Similarity\": 0.049329951718575495}, {\"Alpha\": -8.0, \"Beta\": -7.0, \"Similarity\": -0.029603092067148656}, {\"Alpha\": -8.0, \"Beta\": -6.0, \"Similarity\": 0.0057203161275552646}, {\"Alpha\": -8.0, \"Beta\": -5.0, \"Similarity\": 0.019531194299328813}, {\"Alpha\": -8.0, \"Beta\": -4.0, \"Similarity\": -0.018244754061492792}, {\"Alpha\": -8.0, \"Beta\": -3.0, \"Similarity\": 0.035416458594283926}, {\"Alpha\": -8.0, \"Beta\": -2.0, \"Similarity\": -0.032942897571759173}, {\"Alpha\": -8.0, \"Beta\": -1.0, \"Similarity\": 0.007420563358942506}, {\"Alpha\": -8.0, \"Beta\": 0.0, \"Similarity\": 0.009662929978765172}, {\"Alpha\": -8.0, \"Beta\": 1.0, \"Similarity\": 0.012750168427609593}, {\"Alpha\": -8.0, \"Beta\": 2.0, \"Similarity\": 0.026316256923335737}, {\"Alpha\": -8.0, \"Beta\": 3.0, \"Similarity\": 0.029765582889926638}, {\"Alpha\": -8.0, \"Beta\": 4.0, \"Similarity\": -0.03979464966194334}, {\"Alpha\": -8.0, \"Beta\": 5.0, \"Similarity\": 0.02920405842479603}, {\"Alpha\": -8.0, \"Beta\": 6.0, \"Similarity\": 0.04913331324185509}, {\"Alpha\": -8.0, \"Beta\": 7.0, \"Similarity\": -0.020648448282658292}, {\"Alpha\": -8.0, \"Beta\": 8.0, \"Similarity\": 0.038708056662825924}, {\"Alpha\": -8.0, \"Beta\": 9.0, \"Similarity\": -0.009197357206575553}, {\"Alpha\": -8.0, \"Beta\": 10.0, \"Similarity\": -0.002424014573363417}, {\"Alpha\": -7.0, \"Beta\": -10.0, \"Similarity\": -0.037285564472571045}, {\"Alpha\": -7.0, \"Beta\": -9.0, \"Similarity\": 0.0175016301586902}, {\"Alpha\": -7.0, \"Beta\": -8.0, \"Similarity\": -0.03238632434106076}, {\"Alpha\": -7.0, \"Beta\": -7.0, \"Similarity\": 0.011284663404517902}, {\"Alpha\": -7.0, \"Beta\": -6.0, \"Similarity\": 0.02694620076092236}, {\"Alpha\": -7.0, \"Beta\": -5.0, \"Similarity\": 0.022882682810503666}, {\"Alpha\": -7.0, \"Beta\": -4.0, \"Similarity\": 0.01208682116815874}, {\"Alpha\": -7.0, \"Beta\": -3.0, \"Similarity\": -0.03256400910370295}, {\"Alpha\": -7.0, \"Beta\": -2.0, \"Similarity\": 0.006627377321023226}, {\"Alpha\": -7.0, \"Beta\": -1.0, \"Similarity\": -0.01328505722815748}, {\"Alpha\": -7.0, \"Beta\": 0.0, \"Similarity\": -0.01715774832291129}, {\"Alpha\": -7.0, \"Beta\": 1.0, \"Similarity\": 0.014518975695261211}, {\"Alpha\": -7.0, \"Beta\": 2.0, \"Similarity\": -0.056946906910720616}, {\"Alpha\": -7.0, \"Beta\": 3.0, \"Similarity\": 0.013555914496531013}, {\"Alpha\": -7.0, \"Beta\": 4.0, \"Similarity\": -0.031401967621158974}, {\"Alpha\": -7.0, \"Beta\": 5.0, \"Similarity\": 0.016639532994243665}, {\"Alpha\": -7.0, \"Beta\": 6.0, \"Similarity\": -0.018927458831877454}, {\"Alpha\": -7.0, \"Beta\": 7.0, \"Similarity\": 0.017233837238107088}, {\"Alpha\": -7.0, \"Beta\": 8.0, \"Similarity\": -0.01422427519129809}, {\"Alpha\": -7.0, \"Beta\": 9.0, \"Similarity\": -0.021360884297082144}, {\"Alpha\": -7.0, \"Beta\": 10.0, \"Similarity\": 0.023918348127783873}, {\"Alpha\": -6.0, \"Beta\": -10.0, \"Similarity\": 0.009607456352741942}, {\"Alpha\": -6.0, \"Beta\": -9.0, \"Similarity\": -0.006460777235761885}, {\"Alpha\": -6.0, \"Beta\": -8.0, \"Similarity\": -0.05500073136962236}, {\"Alpha\": -6.0, \"Beta\": -7.0, \"Similarity\": -0.001896569971614765}, {\"Alpha\": -6.0, \"Beta\": -6.0, \"Similarity\": -0.02196289094891525}, {\"Alpha\": -6.0, \"Beta\": -5.0, \"Similarity\": -0.03283448498184933}, {\"Alpha\": -6.0, \"Beta\": -4.0, \"Similarity\": 0.013451998601064889}, {\"Alpha\": -6.0, \"Beta\": -3.0, \"Similarity\": -0.020721850292833487}, {\"Alpha\": -6.0, \"Beta\": -2.0, \"Similarity\": 0.00535118687295186}, {\"Alpha\": -6.0, \"Beta\": -1.0, \"Similarity\": -0.012249193450759196}, {\"Alpha\": -6.0, \"Beta\": 0.0, \"Similarity\": -0.011583352670288594}, {\"Alpha\": -6.0, \"Beta\": 1.0, \"Similarity\": -0.03603796557209039}, {\"Alpha\": -6.0, \"Beta\": 2.0, \"Similarity\": 0.0025910395596592936}, {\"Alpha\": -6.0, \"Beta\": 3.0, \"Similarity\": 0.02029115307384253}, {\"Alpha\": -6.0, \"Beta\": 4.0, \"Similarity\": -0.020367203443829737}, {\"Alpha\": -6.0, \"Beta\": 5.0, \"Similarity\": 0.002796418147714071}, {\"Alpha\": -6.0, \"Beta\": 6.0, \"Similarity\": -0.03981894556287639}, {\"Alpha\": -6.0, \"Beta\": 7.0, \"Similarity\": -0.03917886505959105}, {\"Alpha\": -6.0, \"Beta\": 8.0, \"Similarity\": 0.02522308192203459}, {\"Alpha\": -6.0, \"Beta\": 9.0, \"Similarity\": -0.02348922610646839}, {\"Alpha\": -6.0, \"Beta\": 10.0, \"Similarity\": 0.029318744270601535}, {\"Alpha\": -5.0, \"Beta\": -10.0, \"Similarity\": 0.016838140956861692}, {\"Alpha\": -5.0, \"Beta\": -9.0, \"Similarity\": -0.017802168823783437}, {\"Alpha\": -5.0, \"Beta\": -8.0, \"Similarity\": 0.0545785745530901}, {\"Alpha\": -5.0, \"Beta\": -7.0, \"Similarity\": -0.009160968399808964}, {\"Alpha\": -5.0, \"Beta\": -6.0, \"Similarity\": -0.05878679907886291}, {\"Alpha\": -5.0, \"Beta\": -5.0, \"Similarity\": 0.026583076479361884}, {\"Alpha\": -5.0, \"Beta\": -4.0, \"Similarity\": -0.0008436490166793868}, {\"Alpha\": -5.0, \"Beta\": -3.0, \"Similarity\": 6.624767236367646e-05}, {\"Alpha\": -5.0, \"Beta\": -2.0, \"Similarity\": -0.0029481758965162006}, {\"Alpha\": -5.0, \"Beta\": -1.0, \"Similarity\": -0.004407817053889942}, {\"Alpha\": -5.0, \"Beta\": 0.0, \"Similarity\": -0.0049304932888125695}, {\"Alpha\": -5.0, \"Beta\": 1.0, \"Similarity\": -0.007730686973566293}, {\"Alpha\": -5.0, \"Beta\": 2.0, \"Similarity\": 0.02927098916719423}, {\"Alpha\": -5.0, \"Beta\": 3.0, \"Similarity\": 0.021818697714458605}, {\"Alpha\": -5.0, \"Beta\": 4.0, \"Similarity\": 0.025511634776505532}, {\"Alpha\": -5.0, \"Beta\": 5.0, \"Similarity\": -0.023907956515330373}, {\"Alpha\": -5.0, \"Beta\": 6.0, \"Similarity\": -0.050333106492905184}, {\"Alpha\": -5.0, \"Beta\": 7.0, \"Similarity\": 0.03569756438662631}, {\"Alpha\": -5.0, \"Beta\": 8.0, \"Similarity\": -0.04413042688796715}, {\"Alpha\": -5.0, \"Beta\": 9.0, \"Similarity\": 0.06833876370568387}, {\"Alpha\": -5.0, \"Beta\": 10.0, \"Similarity\": -0.022178470979119513}, {\"Alpha\": -4.0, \"Beta\": -10.0, \"Similarity\": 0.025003777531985853}, {\"Alpha\": -4.0, \"Beta\": -9.0, \"Similarity\": -0.03357244965829876}, {\"Alpha\": -4.0, \"Beta\": -8.0, \"Similarity\": 0.017968264910026975}, {\"Alpha\": -4.0, \"Beta\": -7.0, \"Similarity\": -0.006126458527537041}, {\"Alpha\": -4.0, \"Beta\": -6.0, \"Similarity\": 0.009800197307516363}, {\"Alpha\": -4.0, \"Beta\": -5.0, \"Similarity\": 0.002758822221602232}, {\"Alpha\": -4.0, \"Beta\": -4.0, \"Similarity\": -0.024174889984340694}, {\"Alpha\": -4.0, \"Beta\": -3.0, \"Similarity\": -0.004485513365753991}, {\"Alpha\": -4.0, \"Beta\": -2.0, \"Similarity\": 0.020154059768775698}, {\"Alpha\": -4.0, \"Beta\": -1.0, \"Similarity\": 0.005783564002773884}, {\"Alpha\": -4.0, \"Beta\": 0.0, \"Similarity\": -0.01743230869977426}, {\"Alpha\": -4.0, \"Beta\": 1.0, \"Similarity\": 0.011816670283676181}, {\"Alpha\": -4.0, \"Beta\": 2.0, \"Similarity\": 0.06414650240528752}, {\"Alpha\": -4.0, \"Beta\": 3.0, \"Similarity\": 0.0138776936747478}, {\"Alpha\": -4.0, \"Beta\": 4.0, \"Similarity\": 0.032205726941363824}, {\"Alpha\": -4.0, \"Beta\": 5.0, \"Similarity\": -0.05933044548677107}, {\"Alpha\": -4.0, \"Beta\": 6.0, \"Similarity\": 0.030967576616529515}, {\"Alpha\": -4.0, \"Beta\": 7.0, \"Similarity\": 0.031036292944590954}, {\"Alpha\": -4.0, \"Beta\": 8.0, \"Similarity\": -0.06614425823524325}, {\"Alpha\": -4.0, \"Beta\": 9.0, \"Similarity\": -0.014652821993316146}, {\"Alpha\": -4.0, \"Beta\": 10.0, \"Similarity\": 0.029518556288018694}, {\"Alpha\": -3.0, \"Beta\": -10.0, \"Similarity\": -0.056065960199085337}, {\"Alpha\": -3.0, \"Beta\": -9.0, \"Similarity\": 0.03485618512539324}, {\"Alpha\": -3.0, \"Beta\": -8.0, \"Similarity\": 0.015957987645004973}, {\"Alpha\": -3.0, \"Beta\": -7.0, \"Similarity\": -0.054739146780517015}, {\"Alpha\": -3.0, \"Beta\": -6.0, \"Similarity\": 0.040131245746161295}, {\"Alpha\": -3.0, \"Beta\": -5.0, \"Similarity\": -0.008108303516550964}, {\"Alpha\": -3.0, \"Beta\": -4.0, \"Similarity\": -0.05828754497298975}, {\"Alpha\": -3.0, \"Beta\": -3.0, \"Similarity\": -0.03313701784299124}, {\"Alpha\": -3.0, \"Beta\": -2.0, \"Similarity\": -0.006587580539751535}, {\"Alpha\": -3.0, \"Beta\": -1.0, \"Similarity\": -0.04861054482613476}, {\"Alpha\": -3.0, \"Beta\": 0.0, \"Similarity\": -0.004100984121763826}, {\"Alpha\": -3.0, \"Beta\": 1.0, \"Similarity\": 0.014372691127039039}, {\"Alpha\": -3.0, \"Beta\": 2.0, \"Similarity\": 0.006308623954645884}, {\"Alpha\": -3.0, \"Beta\": 3.0, \"Similarity\": -0.020188131951453994}, {\"Alpha\": -3.0, \"Beta\": 4.0, \"Similarity\": 0.0545267681836926}, {\"Alpha\": -3.0, \"Beta\": 5.0, \"Similarity\": 0.05227715515008284}, {\"Alpha\": -3.0, \"Beta\": 6.0, \"Similarity\": 0.07379077201714129}, {\"Alpha\": -3.0, \"Beta\": 7.0, \"Similarity\": -0.01318461368762416}, {\"Alpha\": -3.0, \"Beta\": 8.0, \"Similarity\": 0.0004932419631901865}, {\"Alpha\": -3.0, \"Beta\": 9.0, \"Similarity\": 0.011273295169355295}, {\"Alpha\": -3.0, \"Beta\": 10.0, \"Similarity\": 0.01472387183586405}, {\"Alpha\": -2.0, \"Beta\": -10.0, \"Similarity\": -0.0006363390022632958}, {\"Alpha\": -2.0, \"Beta\": -9.0, \"Similarity\": -0.005922573835764478}, {\"Alpha\": -2.0, \"Beta\": -8.0, \"Similarity\": -0.012822155229791857}, {\"Alpha\": -2.0, \"Beta\": -7.0, \"Similarity\": -0.01901739206633159}, {\"Alpha\": -2.0, \"Beta\": -6.0, \"Similarity\": -0.02996436848108971}, {\"Alpha\": -2.0, \"Beta\": -5.0, \"Similarity\": -0.03440228738969711}, {\"Alpha\": -2.0, \"Beta\": -4.0, \"Similarity\": -0.05480915142071386}, {\"Alpha\": -2.0, \"Beta\": -3.0, \"Similarity\": 0.01446079843750367}, {\"Alpha\": -2.0, \"Beta\": -2.0, \"Similarity\": -0.007993960757133729}, {\"Alpha\": -2.0, \"Beta\": -1.0, \"Similarity\": 0.008849050528410892}, {\"Alpha\": -2.0, \"Beta\": 0.0, \"Similarity\": -0.0166903197834355}, {\"Alpha\": -2.0, \"Beta\": 1.0, \"Similarity\": -0.001993471498268745}, {\"Alpha\": -2.0, \"Beta\": 2.0, \"Similarity\": 0.012304456624985444}, {\"Alpha\": -2.0, \"Beta\": 3.0, \"Similarity\": -0.037965655504756654}, {\"Alpha\": -2.0, \"Beta\": 4.0, \"Similarity\": -0.028078286216133643}, {\"Alpha\": -2.0, \"Beta\": 5.0, \"Similarity\": 0.010983886135746947}, {\"Alpha\": -2.0, \"Beta\": 6.0, \"Similarity\": 0.05245222837521489}, {\"Alpha\": -2.0, \"Beta\": 7.0, \"Similarity\": 0.024371734648958553}, {\"Alpha\": -2.0, \"Beta\": 8.0, \"Similarity\": 0.027132813432887624}, {\"Alpha\": -2.0, \"Beta\": 9.0, \"Similarity\": -0.0060636700807025915}, {\"Alpha\": -2.0, \"Beta\": 10.0, \"Similarity\": 0.0020646586446144894}, {\"Alpha\": -1.0, \"Beta\": -10.0, \"Similarity\": -0.01658028486631752}, {\"Alpha\": -1.0, \"Beta\": -9.0, \"Similarity\": -0.026435341784767943}, {\"Alpha\": -1.0, \"Beta\": -8.0, \"Similarity\": 0.012482245384156883}, {\"Alpha\": -1.0, \"Beta\": -7.0, \"Similarity\": 0.019373833795318627}, {\"Alpha\": -1.0, \"Beta\": -6.0, \"Similarity\": -0.05411027385443802}, {\"Alpha\": -1.0, \"Beta\": -5.0, \"Similarity\": -0.033492200354079384}, {\"Alpha\": -1.0, \"Beta\": -4.0, \"Similarity\": -0.019420137866416786}, {\"Alpha\": -1.0, \"Beta\": -3.0, \"Similarity\": 0.0060137848939961725}, {\"Alpha\": -1.0, \"Beta\": -2.0, \"Similarity\": -0.025644624942882274}, {\"Alpha\": -1.0, \"Beta\": -1.0, \"Similarity\": -0.021643416504927643}, {\"Alpha\": -1.0, \"Beta\": 0.0, \"Similarity\": -0.0707432085287502}, {\"Alpha\": -1.0, \"Beta\": 1.0, \"Similarity\": 0.0008373735043881023}, {\"Alpha\": -1.0, \"Beta\": 2.0, \"Similarity\": -0.0235365493081134}, {\"Alpha\": -1.0, \"Beta\": 3.0, \"Similarity\": 0.01892402995075358}, {\"Alpha\": -1.0, \"Beta\": 4.0, \"Similarity\": -0.015199888880958962}, {\"Alpha\": -1.0, \"Beta\": 5.0, \"Similarity\": 0.04046985583244731}, {\"Alpha\": -1.0, \"Beta\": 6.0, \"Similarity\": -0.006551889908739866}, {\"Alpha\": -1.0, \"Beta\": 7.0, \"Similarity\": -0.003562202020543676}, {\"Alpha\": -1.0, \"Beta\": 8.0, \"Similarity\": -0.012729991458461704}, {\"Alpha\": -1.0, \"Beta\": 9.0, \"Similarity\": -0.010127984183446162}, {\"Alpha\": -1.0, \"Beta\": 10.0, \"Similarity\": -0.0258330523925983}, {\"Alpha\": 0.0, \"Beta\": -10.0, \"Similarity\": -0.019860722953378554}, {\"Alpha\": 0.0, \"Beta\": -9.0, \"Similarity\": -0.03412677976740628}, {\"Alpha\": 0.0, \"Beta\": -8.0, \"Similarity\": 0.0020490295372453506}, {\"Alpha\": 0.0, \"Beta\": -7.0, \"Similarity\": -0.05373030427647494}, {\"Alpha\": 0.0, \"Beta\": -6.0, \"Similarity\": 0.046647015959049}, {\"Alpha\": 0.0, \"Beta\": -5.0, \"Similarity\": 0.001814813525774202}, {\"Alpha\": 0.0, \"Beta\": -4.0, \"Similarity\": -0.03162678895307401}, {\"Alpha\": 0.0, \"Beta\": -3.0, \"Similarity\": -0.03314874393222971}, {\"Alpha\": 0.0, \"Beta\": -2.0, \"Similarity\": -0.013916142250750265}, {\"Alpha\": 0.0, \"Beta\": -1.0, \"Similarity\": -0.03774381558112763}, {\"Alpha\": 0.0, \"Beta\": 0.0, \"Similarity\": -0.01732369204451684}, {\"Alpha\": 0.0, \"Beta\": 1.0, \"Similarity\": 0.030449958546982694}, {\"Alpha\": 0.0, \"Beta\": 2.0, \"Similarity\": -0.006656033769796334}, {\"Alpha\": 0.0, \"Beta\": 3.0, \"Similarity\": 0.0015775248971646506}, {\"Alpha\": 0.0, \"Beta\": 4.0, \"Similarity\": 0.02216221697478877}, {\"Alpha\": 0.0, \"Beta\": 5.0, \"Similarity\": -0.04276020109683922}, {\"Alpha\": 0.0, \"Beta\": 6.0, \"Similarity\": -0.0013476126428541271}, {\"Alpha\": 0.0, \"Beta\": 7.0, \"Similarity\": -0.030506674128451247}, {\"Alpha\": 0.0, \"Beta\": 8.0, \"Similarity\": -0.012579842357004758}, {\"Alpha\": 0.0, \"Beta\": 9.0, \"Similarity\": 0.0393701488156727}, {\"Alpha\": 0.0, \"Beta\": 10.0, \"Similarity\": 0.0026080500739413567}, {\"Alpha\": 1.0, \"Beta\": -10.0, \"Similarity\": -0.028388681383850606}, {\"Alpha\": 1.0, \"Beta\": -9.0, \"Similarity\": -0.042127598202127615}, {\"Alpha\": 1.0, \"Beta\": -8.0, \"Similarity\": -0.007262215080563011}, {\"Alpha\": 1.0, \"Beta\": -7.0, \"Similarity\": -0.039785157635008506}, {\"Alpha\": 1.0, \"Beta\": -6.0, \"Similarity\": 0.0374119631247119}, {\"Alpha\": 1.0, \"Beta\": -5.0, \"Similarity\": 0.05193374183116124}, {\"Alpha\": 1.0, \"Beta\": -4.0, \"Similarity\": 0.025488583622393042}, {\"Alpha\": 1.0, \"Beta\": -3.0, \"Similarity\": 0.008397346290728316}, {\"Alpha\": 1.0, \"Beta\": -2.0, \"Similarity\": 0.0479897095633792}, {\"Alpha\": 1.0, \"Beta\": -1.0, \"Similarity\": 0.019031468959566866}, {\"Alpha\": 1.0, \"Beta\": 0.0, \"Similarity\": -0.013160051997183305}, {\"Alpha\": 1.0, \"Beta\": 1.0, \"Similarity\": 1.0}, {\"Alpha\": 1.0, \"Beta\": 2.0, \"Similarity\": -0.01316005199718333}, {\"Alpha\": 1.0, \"Beta\": 3.0, \"Similarity\": 0.019031468959566852}, {\"Alpha\": 1.0, \"Beta\": 4.0, \"Similarity\": 0.04798970956337914}, {\"Alpha\": 1.0, \"Beta\": 5.0, \"Similarity\": 0.008397346290728308}, {\"Alpha\": 1.0, \"Beta\": 6.0, \"Similarity\": 0.025488583622392993}, {\"Alpha\": 1.0, \"Beta\": 7.0, \"Similarity\": 0.051933741831161256}, {\"Alpha\": 1.0, \"Beta\": 8.0, \"Similarity\": 0.037411963124711914}, {\"Alpha\": 1.0, \"Beta\": 9.0, \"Similarity\": -0.03978515763500853}, {\"Alpha\": 1.0, \"Beta\": 10.0, \"Similarity\": -0.007262215080563033}, {\"Alpha\": 2.0, \"Beta\": -10.0, \"Similarity\": 0.010262105003007413}, {\"Alpha\": 2.0, \"Beta\": -9.0, \"Similarity\": -0.012215031472967007}, {\"Alpha\": 2.0, \"Beta\": -8.0, \"Similarity\": 0.002608050073941378}, {\"Alpha\": 2.0, \"Beta\": -7.0, \"Similarity\": 0.039370148815672766}, {\"Alpha\": 2.0, \"Beta\": -6.0, \"Similarity\": -0.012579842357004786}, {\"Alpha\": 2.0, \"Beta\": -5.0, \"Similarity\": -0.030506674128451247}, {\"Alpha\": 2.0, \"Beta\": -4.0, \"Similarity\": -0.0013476126428541271}, {\"Alpha\": 2.0, \"Beta\": -3.0, \"Similarity\": -0.04276020109683924}, {\"Alpha\": 2.0, \"Beta\": -2.0, \"Similarity\": 0.022162216974788797}, {\"Alpha\": 2.0, \"Beta\": -1.0, \"Similarity\": 0.001577524897164624}, {\"Alpha\": 2.0, \"Beta\": 0.0, \"Similarity\": -0.006656033769796357}, {\"Alpha\": 2.0, \"Beta\": 1.0, \"Similarity\": 0.030449958546982677}, {\"Alpha\": 2.0, \"Beta\": 2.0, \"Similarity\": -0.017323692044516812}, {\"Alpha\": 2.0, \"Beta\": 3.0, \"Similarity\": -0.03774381558112766}, {\"Alpha\": 2.0, \"Beta\": 4.0, \"Similarity\": -0.013916142250750269}, {\"Alpha\": 2.0, \"Beta\": 5.0, \"Similarity\": -0.0331487439322297}, {\"Alpha\": 2.0, \"Beta\": 6.0, \"Similarity\": -0.03162678895307401}, {\"Alpha\": 2.0, \"Beta\": 7.0, \"Similarity\": 0.0018148135257741948}, {\"Alpha\": 2.0, \"Beta\": 8.0, \"Similarity\": 0.046647015959049014}, {\"Alpha\": 2.0, \"Beta\": 9.0, \"Similarity\": -0.05373030427647498}, {\"Alpha\": 2.0, \"Beta\": 10.0, \"Similarity\": 0.0020490295372453593}, {\"Alpha\": 3.0, \"Beta\": -10.0, \"Similarity\": -0.0019334613263504218}, {\"Alpha\": 3.0, \"Beta\": -9.0, \"Similarity\": -0.0008472714479690407}, {\"Alpha\": 3.0, \"Beta\": -8.0, \"Similarity\": -0.02583305239259829}, {\"Alpha\": 3.0, \"Beta\": -7.0, \"Similarity\": -0.010127984183446227}, {\"Alpha\": 3.0, \"Beta\": -6.0, \"Similarity\": -0.01272999145846164}, {\"Alpha\": 3.0, \"Beta\": -5.0, \"Similarity\": -0.0035622020205436228}, {\"Alpha\": 3.0, \"Beta\": -4.0, \"Similarity\": -0.0065518899087398845}, {\"Alpha\": 3.0, \"Beta\": -3.0, \"Similarity\": 0.04046985583244731}, {\"Alpha\": 3.0, \"Beta\": -2.0, \"Similarity\": -0.015199888880958962}, {\"Alpha\": 3.0, \"Beta\": -1.0, \"Similarity\": 0.018924029950753565}, {\"Alpha\": 3.0, \"Beta\": 0.0, \"Similarity\": -0.02353654930811341}, {\"Alpha\": 3.0, \"Beta\": 1.0, \"Similarity\": 0.000837373504388097}, {\"Alpha\": 3.0, \"Beta\": 2.0, \"Similarity\": -0.07074320852875024}, {\"Alpha\": 3.0, \"Beta\": 3.0, \"Similarity\": -0.021643416504927515}, {\"Alpha\": 3.0, \"Beta\": 4.0, \"Similarity\": -0.02564462494288225}, {\"Alpha\": 3.0, \"Beta\": 5.0, \"Similarity\": 0.0060137848939961856}, {\"Alpha\": 3.0, \"Beta\": 6.0, \"Similarity\": -0.019420137866416824}, {\"Alpha\": 3.0, \"Beta\": 7.0, \"Similarity\": -0.033492200354079384}, {\"Alpha\": 3.0, \"Beta\": 8.0, \"Similarity\": -0.05411027385443799}, {\"Alpha\": 3.0, \"Beta\": 9.0, \"Similarity\": 0.01937383379531856}, {\"Alpha\": 3.0, \"Beta\": 10.0, \"Similarity\": 0.012482245384156872}, {\"Alpha\": 4.0, \"Beta\": -10.0, \"Similarity\": 0.003846865014507065}, {\"Alpha\": 4.0, \"Beta\": -9.0, \"Similarity\": -0.009477307040609246}, {\"Alpha\": 4.0, \"Beta\": -8.0, \"Similarity\": 0.0020646586446144612}, {\"Alpha\": 4.0, \"Beta\": -7.0, \"Similarity\": -0.0060636700807025715}, {\"Alpha\": 4.0, \"Beta\": -6.0, \"Similarity\": 0.02713281343288764}, {\"Alpha\": 4.0, \"Beta\": -5.0, \"Similarity\": 0.02437173464895854}, {\"Alpha\": 4.0, \"Beta\": -4.0, \"Similarity\": 0.052452228375214884}, {\"Alpha\": 4.0, \"Beta\": -3.0, \"Similarity\": 0.010983886135746928}, {\"Alpha\": 4.0, \"Beta\": -2.0, \"Similarity\": -0.028078286216133615}, {\"Alpha\": 4.0, \"Beta\": -1.0, \"Similarity\": -0.03796565550475663}, {\"Alpha\": 4.0, \"Beta\": 0.0, \"Similarity\": 0.012304456624985406}, {\"Alpha\": 4.0, \"Beta\": 1.0, \"Similarity\": -0.001993471498268777}, {\"Alpha\": 4.0, \"Beta\": 2.0, \"Similarity\": -0.01669031978343551}, {\"Alpha\": 4.0, \"Beta\": 3.0, \"Similarity\": 0.008849050528410849}, {\"Alpha\": 4.0, \"Beta\": 4.0, \"Similarity\": -0.007993960757133722}, {\"Alpha\": 4.0, \"Beta\": 5.0, \"Similarity\": 0.014460798437503692}, {\"Alpha\": 4.0, \"Beta\": 6.0, \"Similarity\": -0.05480915142071381}, {\"Alpha\": 4.0, \"Beta\": 7.0, \"Similarity\": -0.03440228738969711}, {\"Alpha\": 4.0, \"Beta\": 8.0, \"Similarity\": -0.02996436848108977}, {\"Alpha\": 4.0, \"Beta\": 9.0, \"Similarity\": -0.0190173920663316}, {\"Alpha\": 4.0, \"Beta\": 10.0, \"Similarity\": -0.012822155229791847}, {\"Alpha\": 5.0, \"Beta\": -10.0, \"Similarity\": 0.028631622248424603}, {\"Alpha\": 5.0, \"Beta\": -9.0, \"Similarity\": 0.01248783812681771}, {\"Alpha\": 5.0, \"Beta\": -8.0, \"Similarity\": 0.014723871835864022}, {\"Alpha\": 5.0, \"Beta\": -7.0, \"Similarity\": 0.011273295169355218}, {\"Alpha\": 5.0, \"Beta\": -6.0, \"Similarity\": 0.0004932419631901403}, {\"Alpha\": 5.0, \"Beta\": -5.0, \"Similarity\": -0.01318461368762419}, {\"Alpha\": 5.0, \"Beta\": -4.0, \"Similarity\": 0.0737907720171413}, {\"Alpha\": 5.0, \"Beta\": -3.0, \"Similarity\": 0.05227715515008285}, {\"Alpha\": 5.0, \"Beta\": -2.0, \"Similarity\": 0.0545267681836926}, {\"Alpha\": 5.0, \"Beta\": -1.0, \"Similarity\": -0.020188131951454025}, {\"Alpha\": 5.0, \"Beta\": 0.0, \"Similarity\": 0.0063086239546459}, {\"Alpha\": 5.0, \"Beta\": 1.0, \"Similarity\": 0.01437269112703899}, {\"Alpha\": 5.0, \"Beta\": 2.0, \"Similarity\": -0.0041009841217638406}, {\"Alpha\": 5.0, \"Beta\": 3.0, \"Similarity\": -0.048610544826134715}, {\"Alpha\": 5.0, \"Beta\": 4.0, \"Similarity\": -0.006587580539751533}, {\"Alpha\": 5.0, \"Beta\": 5.0, \"Similarity\": -0.03313701784299125}, {\"Alpha\": 5.0, \"Beta\": 6.0, \"Similarity\": -0.05828754497298975}, {\"Alpha\": 5.0, \"Beta\": 7.0, \"Similarity\": -0.00810830351655097}, {\"Alpha\": 5.0, \"Beta\": 8.0, \"Similarity\": 0.040131245746161316}, {\"Alpha\": 5.0, \"Beta\": 9.0, \"Similarity\": -0.05473914678051708}, {\"Alpha\": 5.0, \"Beta\": 10.0, \"Similarity\": 0.01595798764500497}, {\"Alpha\": 6.0, \"Beta\": -10.0, \"Similarity\": -0.03672227497147291}, {\"Alpha\": 6.0, \"Beta\": -9.0, \"Similarity\": 0.023022359816371935}, {\"Alpha\": 6.0, \"Beta\": -8.0, \"Similarity\": 0.029518556288018707}, {\"Alpha\": 6.0, \"Beta\": -7.0, \"Similarity\": -0.014652821993316183}, {\"Alpha\": 6.0, \"Beta\": -6.0, \"Similarity\": -0.06614425823524325}, {\"Alpha\": 6.0, \"Beta\": -5.0, \"Similarity\": 0.031036292944590982}, {\"Alpha\": 6.0, \"Beta\": -4.0, \"Similarity\": 0.03096757661652951}, {\"Alpha\": 6.0, \"Beta\": -3.0, \"Similarity\": -0.05933044548677106}, {\"Alpha\": 6.0, \"Beta\": -2.0, \"Similarity\": 0.03220572694136384}, {\"Alpha\": 6.0, \"Beta\": -1.0, \"Similarity\": 0.013877693674747813}, {\"Alpha\": 6.0, \"Beta\": 0.0, \"Similarity\": 0.06414650240528756}, {\"Alpha\": 6.0, \"Beta\": 1.0, \"Similarity\": 0.011816670283676176}, {\"Alpha\": 6.0, \"Beta\": 2.0, \"Similarity\": -0.017432308699774256}, {\"Alpha\": 6.0, \"Beta\": 3.0, \"Similarity\": 0.005783564002773867}, {\"Alpha\": 6.0, \"Beta\": 4.0, \"Similarity\": 0.0201540597687757}, {\"Alpha\": 6.0, \"Beta\": 5.0, \"Similarity\": -0.004485513365753922}, {\"Alpha\": 6.0, \"Beta\": 6.0, \"Similarity\": -0.024174889984340715}, {\"Alpha\": 6.0, \"Beta\": 7.0, \"Similarity\": 0.0027588222216022853}, {\"Alpha\": 6.0, \"Beta\": 8.0, \"Similarity\": 0.00980019730751636}, {\"Alpha\": 6.0, \"Beta\": 9.0, \"Similarity\": -0.006126458527537028}, {\"Alpha\": 6.0, \"Beta\": 10.0, \"Similarity\": 0.017968264910026982}, {\"Alpha\": 7.0, \"Beta\": -10.0, \"Similarity\": 0.024649938359684712}, {\"Alpha\": 7.0, \"Beta\": -9.0, \"Similarity\": -0.0014766095203917154}, {\"Alpha\": 7.0, \"Beta\": -8.0, \"Similarity\": -0.022178470979119503}, {\"Alpha\": 7.0, \"Beta\": -7.0, \"Similarity\": 0.06833876370568386}, {\"Alpha\": 7.0, \"Beta\": -6.0, \"Similarity\": -0.04413042688796715}, {\"Alpha\": 7.0, \"Beta\": -5.0, \"Similarity\": 0.03569756438662637}, {\"Alpha\": 7.0, \"Beta\": -4.0, \"Similarity\": -0.05033310649290529}, {\"Alpha\": 7.0, \"Beta\": -3.0, \"Similarity\": -0.023907956515330387}, {\"Alpha\": 7.0, \"Beta\": -2.0, \"Similarity\": 0.02551163477650555}, {\"Alpha\": 7.0, \"Beta\": -1.0, \"Similarity\": 0.02181869771445858}, {\"Alpha\": 7.0, \"Beta\": 0.0, \"Similarity\": 0.029270989167194218}, {\"Alpha\": 7.0, \"Beta\": 1.0, \"Similarity\": -0.007730686973566275}, {\"Alpha\": 7.0, \"Beta\": 2.0, \"Similarity\": -0.004930493288812566}, {\"Alpha\": 7.0, \"Beta\": 3.0, \"Similarity\": -0.0044078170538899356}, {\"Alpha\": 7.0, \"Beta\": 4.0, \"Similarity\": -0.0029481758965162184}, {\"Alpha\": 7.0, \"Beta\": 5.0, \"Similarity\": 6.624767236365869e-05}, {\"Alpha\": 7.0, \"Beta\": 6.0, \"Similarity\": -0.0008436490166793877}, {\"Alpha\": 7.0, \"Beta\": 7.0, \"Similarity\": 0.026583076479361843}, {\"Alpha\": 7.0, \"Beta\": 8.0, \"Similarity\": -0.058786799078862924}, {\"Alpha\": 7.0, \"Beta\": 9.0, \"Similarity\": -0.009160968399808959}, {\"Alpha\": 7.0, \"Beta\": 10.0, \"Similarity\": 0.05457857455309006}, {\"Alpha\": 8.0, \"Beta\": -10.0, \"Similarity\": 0.01819161187683487}, {\"Alpha\": 8.0, \"Beta\": -9.0, \"Similarity\": 0.02520645516734998}, {\"Alpha\": 8.0, \"Beta\": -8.0, \"Similarity\": 0.029318744270601504}, {\"Alpha\": 8.0, \"Beta\": -7.0, \"Similarity\": -0.023489226106468364}, {\"Alpha\": 8.0, \"Beta\": -6.0, \"Similarity\": 0.02522308192203457}, {\"Alpha\": 8.0, \"Beta\": -5.0, \"Similarity\": -0.03917886505959099}, {\"Alpha\": 8.0, \"Beta\": -4.0, \"Similarity\": -0.03981894556287642}, {\"Alpha\": 8.0, \"Beta\": -3.0, \"Similarity\": 0.002796418147714025}, {\"Alpha\": 8.0, \"Beta\": -2.0, \"Similarity\": -0.020367203443829772}, {\"Alpha\": 8.0, \"Beta\": -1.0, \"Similarity\": 0.02029115307384256}, {\"Alpha\": 8.0, \"Beta\": 0.0, \"Similarity\": 0.0025910395596592953}, {\"Alpha\": 8.0, \"Beta\": 1.0, \"Similarity\": -0.03603796557209044}, {\"Alpha\": 8.0, \"Beta\": 2.0, \"Similarity\": -0.011583352670288587}, {\"Alpha\": 8.0, \"Beta\": 3.0, \"Similarity\": -0.012249193450759237}, {\"Alpha\": 8.0, \"Beta\": 4.0, \"Similarity\": 0.005351186872951857}, {\"Alpha\": 8.0, \"Beta\": 5.0, \"Similarity\": -0.020721850292833483}, {\"Alpha\": 8.0, \"Beta\": 6.0, \"Similarity\": 0.013451998601064843}, {\"Alpha\": 8.0, \"Beta\": 7.0, \"Similarity\": -0.032834484981849335}, {\"Alpha\": 8.0, \"Beta\": 8.0, \"Similarity\": -0.02196289094891521}, {\"Alpha\": 8.0, \"Beta\": 9.0, \"Similarity\": -0.0018965699716147109}, {\"Alpha\": 8.0, \"Beta\": 10.0, \"Similarity\": -0.055000731369622365}, {\"Alpha\": 9.0, \"Beta\": -10.0, \"Similarity\": 0.07010953268516772}, {\"Alpha\": 9.0, \"Beta\": -9.0, \"Similarity\": 0.019330776452987985}, {\"Alpha\": 9.0, \"Beta\": -8.0, \"Similarity\": 0.02391834812778395}, {\"Alpha\": 9.0, \"Beta\": -7.0, \"Similarity\": -0.021360884297082192}, {\"Alpha\": 9.0, \"Beta\": -6.0, \"Similarity\": -0.014224275191298078}, {\"Alpha\": 9.0, \"Beta\": -5.0, \"Similarity\": 0.017233837238107078}, {\"Alpha\": 9.0, \"Beta\": -4.0, \"Similarity\": -0.018927458831877433}, {\"Alpha\": 9.0, \"Beta\": -3.0, \"Similarity\": 0.016639532994243637}, {\"Alpha\": 9.0, \"Beta\": -2.0, \"Similarity\": -0.031401967621158926}, {\"Alpha\": 9.0, \"Beta\": -1.0, \"Similarity\": 0.013555914496530984}, {\"Alpha\": 9.0, \"Beta\": 0.0, \"Similarity\": -0.05694690691072057}, {\"Alpha\": 9.0, \"Beta\": 1.0, \"Similarity\": 0.014518975695261232}, {\"Alpha\": 9.0, \"Beta\": 2.0, \"Similarity\": -0.017157748322911327}, {\"Alpha\": 9.0, \"Beta\": 3.0, \"Similarity\": -0.013285057228157435}, {\"Alpha\": 9.0, \"Beta\": 4.0, \"Similarity\": 0.0066273773210232005}, {\"Alpha\": 9.0, \"Beta\": 5.0, \"Similarity\": -0.03256400910370297}, {\"Alpha\": 9.0, \"Beta\": 6.0, \"Similarity\": 0.012086821168158736}, {\"Alpha\": 9.0, \"Beta\": 7.0, \"Similarity\": 0.02288268281050373}, {\"Alpha\": 9.0, \"Beta\": 8.0, \"Similarity\": 0.02694620076092231}, {\"Alpha\": 9.0, \"Beta\": 9.0, \"Similarity\": 0.011284663404517871}, {\"Alpha\": 9.0, \"Beta\": 10.0, \"Similarity\": -0.032386324341060715}, {\"Alpha\": 10.0, \"Beta\": -10.0, \"Similarity\": 0.0023900044903143094}, {\"Alpha\": 10.0, \"Beta\": -9.0, \"Similarity\": 0.011486230063199276}, {\"Alpha\": 10.0, \"Beta\": -8.0, \"Similarity\": -0.002424014573363468}, {\"Alpha\": 10.0, \"Beta\": -7.0, \"Similarity\": -0.009197357206575555}, {\"Alpha\": 10.0, \"Beta\": -6.0, \"Similarity\": 0.03870805666282593}, {\"Alpha\": 10.0, \"Beta\": -5.0, \"Similarity\": -0.020648448282658292}, {\"Alpha\": 10.0, \"Beta\": -4.0, \"Similarity\": 0.049133313241855076}, {\"Alpha\": 10.0, \"Beta\": -3.0, \"Similarity\": 0.029204058424795988}, {\"Alpha\": 10.0, \"Beta\": -2.0, \"Similarity\": -0.03979464966194334}, {\"Alpha\": 10.0, \"Beta\": -1.0, \"Similarity\": 0.02976558288992667}, {\"Alpha\": 10.0, \"Beta\": 0.0, \"Similarity\": 0.026316256923335737}, {\"Alpha\": 10.0, \"Beta\": 1.0, \"Similarity\": 0.012750168427609588}, {\"Alpha\": 10.0, \"Beta\": 2.0, \"Similarity\": 0.009662929978765148}, {\"Alpha\": 10.0, \"Beta\": 3.0, \"Similarity\": 0.007420563358942453}, {\"Alpha\": 10.0, \"Beta\": 4.0, \"Similarity\": -0.032942897571759215}, {\"Alpha\": 10.0, \"Beta\": 5.0, \"Similarity\": 0.03541645859428393}, {\"Alpha\": 10.0, \"Beta\": 6.0, \"Similarity\": -0.018244754061492785}, {\"Alpha\": 10.0, \"Beta\": 7.0, \"Similarity\": 0.019531194299328817}, {\"Alpha\": 10.0, \"Beta\": 8.0, \"Similarity\": 0.0057203161275552646}, {\"Alpha\": 10.0, \"Beta\": 9.0, \"Similarity\": -0.029603092067148687}, {\"Alpha\": 10.0, \"Beta\": 10.0, \"Similarity\": 0.0493299517185755}]}}, {\"mode\": \"vega-lite\"});\n",
       "</script>"
      ],
      "text/plain": [
       "alt.Chart(...)"
      ]
     },
     "execution_count": 9,
     "metadata": {},
     "output_type": "execute_result"
    }
   ],
   "source": [
    "\n",
    "dim = 500\n",
    "hx = generate_hvs(dim)\n",
    "hy = generate_hvs(dim)\n",
    "\n",
    "# alpha and beta \n",
    "alphas = np.linspace(-10, 10, 21)\n",
    "betas = np.linspace(-10, 10, 21)\n",
    "\n",
    "# base binding for h_x^0 ⊙ h_y^0\n",
    "base_binding = binding(hx, hy)\n",
    "\n",
    "# similarities for all combinations of alpha and beta\n",
    "data = []\n",
    "for alpha in alphas:\n",
    "    for beta in betas:\n",
    "        hxa = fractional_power(hx, alpha)\n",
    "        hyb = fractional_power(hy, beta)\n",
    "        bound_hv = binding(hxa, hyb)\n",
    "        sim = similarity(base_binding, bound_hv)\n",
    "        data.append({\"Alpha\": alpha, \"Beta\": beta, \"Similarity\": sim})\n",
    "\n",
    "# convert to dataframe\n",
    "df = pd.DataFrame(data)\n",
    "\n",
    "# \n",
    "heatmap = alt.Chart(df).mark_rect().encode(\n",
    "    x=alt.X(\"Alpha:O\", title=\"Alpha\"),\n",
    "    y=alt.Y(\"Beta:O\", title=\"Beta\"),\n",
    "    color=alt.Color(\"Similarity:Q\", scale=alt.Scale(scheme=\"viridis\"), title=\"Similarity\"),\n",
    "    tooltip=[\"Alpha\", \"Beta\", \"Similarity\"]\n",
    ").properties(\n",
    "    title=\"Heatmap of Similarities\"\n",
    ")\n",
    "\n",
    "heatmap"
   ]
  },
  {
   "cell_type": "markdown",
   "id": "52727e3d-f340-43f9-a445-e9aab1943025",
   "metadata": {},
   "source": [
    "## Experiment 2: Vector Symbolic Encoding"
   ]
  },
  {
   "cell_type": "markdown",
   "id": "eb25983d-ec88-49a3-9472-bb8ea8072136",
   "metadata": {},
   "source": [
    "Encoding selection of hypervectors by binding with corresponding position hypervectors. \n",
    "Specifically: <br>\n",
    "$h_I = \\phi(\\{(A, 2, 5), (B, 6, 10)\\}) = h_A \\odot h_x^2 \\odot h_y^5 \\oplus h_B \\odot h_x^6 \\odot h_y^{10}$"
   ]
  },
  {
   "cell_type": "markdown",
   "id": "aceea0ff-8c32-4cbb-a6a6-1d7008a2fe33",
   "metadata": {},
   "source": [
    "Firstly we need to verify some properties: <br>\n",
    "    1. Binding $h_x^2$ with $h_x^{-2}$ yield identity element. <br>\n",
    "    2. Binding $h_A \\odot h_x^2 \\odot h_y^5$ with $h_x^{-2} \\odot h_y^{-5}$ yields $h_A$\n"
   ]
  },
  {
   "cell_type": "code",
   "execution_count": 10,
   "id": "6b7e339f-7477-4f9c-89fb-865b3aac1b07",
   "metadata": {},
   "outputs": [
    {
     "name": "stdout",
     "output_type": "stream",
     "text": [
      "Similarity between binding hx^2 and hx^-2 and identity element (should be near 1): 1.0\n"
     ]
    }
   ],
   "source": [
    "# verifying property 1\n",
    "dim = 500\n",
    "hx = generate_hvs(dim)\n",
    "identity = np.ones(dim, dtype=complex)\n",
    "hx2 = fractional_power(hx, 2)\n",
    "hx_2 = fractional_power(hx, -2)\n",
    "bound = binding(hx2, hx_2)\n",
    "print(f\"Similarity between binding hx^2 and hx^-2 and identity element (should be near 1): {similarity(bound, identity)}\")\n"
   ]
  },
  {
   "cell_type": "code",
   "execution_count": 11,
   "id": "5e7b95be-023f-4f67-8e11-e60d0cf44cf1",
   "metadata": {},
   "outputs": [
    {
     "name": "stdout",
     "output_type": "stream",
     "text": [
      "Check that complex conjugate of hx2 is similar to hx^-2 (conceptually they are identical): 1.0\n",
      "Simlarity between ha*hx2*hx5 and ha (should be near 0): 0.027354045982199017\n",
      "Simlarity between ha*hx2*hx5*hx-2*hx-5 (unbinding) and original (should be near 1): 1.0000000000000002\n"
     ]
    }
   ],
   "source": [
    "# verifying property 2\n",
    "dim = 1000\n",
    "ha = generate_hvs(dim)\n",
    "hx = generate_hvs(dim)\n",
    "identity = np.ones(dim, dtype=complex)\n",
    "hx2 = fractional_power(hx, 2)\n",
    "\n",
    "hx5 = fractional_power(hx, 5)\n",
    "\n",
    "# define inverse positional hypervectors for retrieval\n",
    "# conceptaully and empirically the same as their complex conjugate \n",
    "hx_2 = fractional_power(hx, -2)\n",
    "hx_5 = fractional_power(hx, -5)\n",
    "print(f\"Check that complex conjugate of hx2 is similar to hx^-2 (conceptually they are identical): {similarity(hx_2, np.conjugate(hx2))}\") \n",
    "\n",
    "# bounded representation of hx\n",
    "bound = binding(ha, hx2, hx5) \n",
    "print(f\"Simlarity between ha*hx2*hx5 and ha (should be near 0): {similarity(bound, ha)}\")\n",
    "\n",
    "# rebind with inverse positional hypervectors to retrieve\n",
    "retrieve = binding(bound, hx_2, hx_5) \n",
    "\n",
    "print(f\"Simlarity between ha*hx2*hx5*hx-2*hx-5 (unbinding) and original (should be near 1): {similarity(retrieve, ha)}\")"
   ]
  },
  {
   "cell_type": "code",
   "execution_count": 12,
   "id": "26591b6c-ec68-48f8-988d-33b7c5f8da9f",
   "metadata": {},
   "outputs": [],
   "source": [
    "# encode by binding hypervector of a and b with their fractionally powered axis hvs\n",
    "def encode(ha, hb, pos_a, pos_b):\n",
    "    encoded_a = binding(ha, pos_a[0], pos_a[1])\n",
    "    encoded_b = binding(hb, pos_b[0], pos_b[1])\n",
    "    return bundle(encoded_a, encoded_b)\n",
    "# decode using conjugate of positional vectors\n",
    "def decode(encoded, pos_x, pos_y):\n",
    "    pos_comb = binding(pos_x, pos_y)\n",
    "    return binding(encoded, pos_comb)"
   ]
  },
  {
   "cell_type": "code",
   "execution_count": 13,
   "id": "47cb2c42-e11d-491f-b579-9e167b560920",
   "metadata": {},
   "outputs": [],
   "source": [
    "def experiment():\n",
    "    dim = 1000\n",
    "    hx, hy = generate_hvs(dim), generate_hvs(dim) # define hvs for axis\n",
    "    ha, hb = generate_hvs(dim), generate_hvs(dim) # define hvs for a and b\n",
    "    \n",
    "    # define positions based on given example\n",
    "    symbols = {\n",
    "        \"A\": (2, 5),\n",
    "        \"B\": (6, 10) \n",
    "    }\n",
    "    \n",
    "    # define the fractional powers of the axis hvs based on position of a and b\n",
    "    # these represent the codebook of x and y axis except they are only defined for the powers we use \n",
    "    pos_a = (fractional_power(hx, symbols[\"A\"][0]), fractional_power(hy, symbols[\"A\"][1]))\n",
    "    pos_b = (fractional_power(hx, symbols[\"B\"][0]), fractional_power(hy, symbols[\"B\"][1]))\n",
    "\n",
    "    #encode hypervectors with their corresponding positional hypervectors\n",
    "    encoded_hvs = encode(ha, hb, pos_a, pos_b)\n",
    "    \n",
    "    unbound_a = decode(encoded_hvs, np.conjugate(pos_a[0]), np.conjugate(pos_a[1]))\n",
    "    unbound_b = decode(encoded_hvs, np.conjugate(pos_b[0]), np.conjugate(pos_b[1]))\n",
    "    sim_a_unbound = similarity(ha, unbound_a)\n",
    "    sim_b_unbound = similarity(hb, unbound_b)\n",
    "    \n",
    "    random_hv = generate_hvs(dim)\n",
    "    random_a = similarity(random_hv, ha)\n",
    "    random_b = similarity(random_hv, hb)\n",
    "\n",
    "    return { \"A unbound\": sim_a_unbound, \"A random\": random_a, \"B unbound\": sim_b_unbound, \"B random\": random_b }\n",
    "    "
   ]
  },
  {
   "cell_type": "code",
   "execution_count": 14,
   "id": "bf089f06-b9e4-4c5c-ba1c-1ff910499ed2",
   "metadata": {},
   "outputs": [
    {
     "name": "stderr",
     "output_type": "stream",
     "text": [
      "L:\\Coding stuff\\Anaconda\\Lib\\site-packages\\altair\\utils\\core.py:395: FutureWarning: the convert_dtype parameter is deprecated and will be removed in a future version.  Do ``ser.astype(object).apply()`` instead if you want ``convert_dtype=False``.\n",
      "  col = df[col_name].apply(to_list_if_array, convert_dtype=False)\n"
     ]
    },
    {
     "data": {
      "text/html": [
       "\n",
       "<style>\n",
       "  #altair-viz-3b9d3d6a635d4f0c89d0c68eada3c4b6.vega-embed {\n",
       "    width: 100%;\n",
       "    display: flex;\n",
       "  }\n",
       "\n",
       "  #altair-viz-3b9d3d6a635d4f0c89d0c68eada3c4b6.vega-embed details,\n",
       "  #altair-viz-3b9d3d6a635d4f0c89d0c68eada3c4b6.vega-embed details summary {\n",
       "    position: relative;\n",
       "  }\n",
       "</style>\n",
       "<div id=\"altair-viz-3b9d3d6a635d4f0c89d0c68eada3c4b6\"></div>\n",
       "<script type=\"text/javascript\">\n",
       "  var VEGA_DEBUG = (typeof VEGA_DEBUG == \"undefined\") ? {} : VEGA_DEBUG;\n",
       "  (function(spec, embedOpt){\n",
       "    let outputDiv = document.currentScript.previousElementSibling;\n",
       "    if (outputDiv.id !== \"altair-viz-3b9d3d6a635d4f0c89d0c68eada3c4b6\") {\n",
       "      outputDiv = document.getElementById(\"altair-viz-3b9d3d6a635d4f0c89d0c68eada3c4b6\");\n",
       "    }\n",
       "    const paths = {\n",
       "      \"vega\": \"https://cdn.jsdelivr.net/npm/vega@5?noext\",\n",
       "      \"vega-lib\": \"https://cdn.jsdelivr.net/npm/vega-lib?noext\",\n",
       "      \"vega-lite\": \"https://cdn.jsdelivr.net/npm/vega-lite@5.8.0?noext\",\n",
       "      \"vega-embed\": \"https://cdn.jsdelivr.net/npm/vega-embed@6?noext\",\n",
       "    };\n",
       "\n",
       "    function maybeLoadScript(lib, version) {\n",
       "      var key = `${lib.replace(\"-\", \"\")}_version`;\n",
       "      return (VEGA_DEBUG[key] == version) ?\n",
       "        Promise.resolve(paths[lib]) :\n",
       "        new Promise(function(resolve, reject) {\n",
       "          var s = document.createElement('script');\n",
       "          document.getElementsByTagName(\"head\")[0].appendChild(s);\n",
       "          s.async = true;\n",
       "          s.onload = () => {\n",
       "            VEGA_DEBUG[key] = version;\n",
       "            return resolve(paths[lib]);\n",
       "          };\n",
       "          s.onerror = () => reject(`Error loading script: ${paths[lib]}`);\n",
       "          s.src = paths[lib];\n",
       "        });\n",
       "    }\n",
       "\n",
       "    function showError(err) {\n",
       "      outputDiv.innerHTML = `<div class=\"error\" style=\"color:red;\">${err}</div>`;\n",
       "      throw err;\n",
       "    }\n",
       "\n",
       "    function displayChart(vegaEmbed) {\n",
       "      vegaEmbed(outputDiv, spec, embedOpt)\n",
       "        .catch(err => showError(`Javascript Error: ${err.message}<br>This usually means there's a typo in your chart specification. See the javascript console for the full traceback.`));\n",
       "    }\n",
       "\n",
       "    if(typeof define === \"function\" && define.amd) {\n",
       "      requirejs.config({paths});\n",
       "      require([\"vega-embed\"], displayChart, err => showError(`Error loading script: ${err.message}`));\n",
       "    } else {\n",
       "      maybeLoadScript(\"vega\", \"5\")\n",
       "        .then(() => maybeLoadScript(\"vega-lite\", \"5.8.0\"))\n",
       "        .then(() => maybeLoadScript(\"vega-embed\", \"6\"))\n",
       "        .catch(showError)\n",
       "        .then(() => displayChart(vegaEmbed));\n",
       "    }\n",
       "  })({\"config\": {\"view\": {\"continuousWidth\": 300, \"continuousHeight\": 300}, \"title\": {\"anchor\": \"start\", \"fontSize\": 32}}, \"data\": {\"name\": \"data-c9d0c59e39099133896a95204f7e84eb\"}, \"mark\": {\"type\": \"line\"}, \"encoding\": {\"color\": {\"field\": \"Type\", \"title\": \"Legend\", \"type\": \"nominal\"}, \"tooltip\": [{\"field\": \"index\", \"type\": \"quantitative\"}, {\"field\": \"Type\", \"type\": \"nominal\"}, {\"field\": \"Similarity\", \"type\": \"quantitative\"}], \"x\": {\"field\": \"index\", \"title\": \"Experiment #\", \"type\": \"quantitative\"}, \"y\": {\"field\": \"Similarity\", \"scale\": {\"domain\": [-1, 1]}, \"title\": \"Similarity\", \"type\": \"quantitative\"}}, \"height\": 300, \"title\": \"Similarity of A with Unbound vs Random Vectors\", \"width\": 800, \"$schema\": \"https://vega.github.io/schema/vega-lite/v5.8.0.json\", \"datasets\": {\"data-c9d0c59e39099133896a95204f7e84eb\": [{\"index\": 0, \"Type\": \"A unbound\", \"Similarity\": 1.0243936112435879}, {\"index\": 1, \"Type\": \"A unbound\", \"Similarity\": 0.9946461663361815}, {\"index\": 2, \"Type\": \"A unbound\", \"Similarity\": 0.9862963479176857}, {\"index\": 3, \"Type\": \"A unbound\", \"Similarity\": 1.0305368696785937}, {\"index\": 4, \"Type\": \"A unbound\", \"Similarity\": 0.9886543270065414}, {\"index\": 5, \"Type\": \"A unbound\", \"Similarity\": 1.0235325360692802}, {\"index\": 6, \"Type\": \"A unbound\", \"Similarity\": 1.0118269495925238}, {\"index\": 7, \"Type\": \"A unbound\", \"Similarity\": 1.0605979053288581}, {\"index\": 8, \"Type\": \"A unbound\", \"Similarity\": 0.9783080042995016}, {\"index\": 9, \"Type\": \"A unbound\", \"Similarity\": 0.9723862842320569}, {\"index\": 10, \"Type\": \"A unbound\", \"Similarity\": 1.009612578544104}, {\"index\": 11, \"Type\": \"A unbound\", \"Similarity\": 1.0183099922305836}, {\"index\": 12, \"Type\": \"A unbound\", \"Similarity\": 0.9901656310621445}, {\"index\": 13, \"Type\": \"A unbound\", \"Similarity\": 0.9733894489490966}, {\"index\": 14, \"Type\": \"A unbound\", \"Similarity\": 1.0169864993515336}, {\"index\": 15, \"Type\": \"A unbound\", \"Similarity\": 1.0070301714128094}, {\"index\": 16, \"Type\": \"A unbound\", \"Similarity\": 0.999840859497705}, {\"index\": 17, \"Type\": \"A unbound\", \"Similarity\": 0.988456976487432}, {\"index\": 18, \"Type\": \"A unbound\", \"Similarity\": 0.9961929587650014}, {\"index\": 19, \"Type\": \"A unbound\", \"Similarity\": 1.0053167528147393}, {\"index\": 20, \"Type\": \"A unbound\", \"Similarity\": 0.9823173024824531}, {\"index\": 21, \"Type\": \"A unbound\", \"Similarity\": 0.9772497276392604}, {\"index\": 22, \"Type\": \"A unbound\", \"Similarity\": 0.9885543857679312}, {\"index\": 23, \"Type\": \"A unbound\", \"Similarity\": 1.029850144370463}, {\"index\": 24, \"Type\": \"A unbound\", \"Similarity\": 0.9855112907337406}, {\"index\": 25, \"Type\": \"A unbound\", \"Similarity\": 0.9719788694664108}, {\"index\": 26, \"Type\": \"A unbound\", \"Similarity\": 1.0049905909382395}, {\"index\": 27, \"Type\": \"A unbound\", \"Similarity\": 1.0162531109584108}, {\"index\": 28, \"Type\": \"A unbound\", \"Similarity\": 0.9775148048015485}, {\"index\": 29, \"Type\": \"A unbound\", \"Similarity\": 1.0054560613687336}, {\"index\": 30, \"Type\": \"A unbound\", \"Similarity\": 0.999279642449997}, {\"index\": 31, \"Type\": \"A unbound\", \"Similarity\": 1.0333071273862238}, {\"index\": 32, \"Type\": \"A unbound\", \"Similarity\": 1.0146711968979187}, {\"index\": 33, \"Type\": \"A unbound\", \"Similarity\": 0.9772997478581008}, {\"index\": 34, \"Type\": \"A unbound\", \"Similarity\": 0.9765687737864456}, {\"index\": 35, \"Type\": \"A unbound\", \"Similarity\": 1.0444996326798464}, {\"index\": 36, \"Type\": \"A unbound\", \"Similarity\": 0.9775603879696032}, {\"index\": 37, \"Type\": \"A unbound\", \"Similarity\": 0.9678669633793802}, {\"index\": 38, \"Type\": \"A unbound\", \"Similarity\": 1.0071788477554326}, {\"index\": 39, \"Type\": \"A unbound\", \"Similarity\": 1.004555035796486}, {\"index\": 40, \"Type\": \"A unbound\", \"Similarity\": 0.9959469774253491}, {\"index\": 41, \"Type\": \"A unbound\", \"Similarity\": 1.0081185971598037}, {\"index\": 42, \"Type\": \"A unbound\", \"Similarity\": 0.9909479592700589}, {\"index\": 43, \"Type\": \"A unbound\", \"Similarity\": 0.9957364229900314}, {\"index\": 44, \"Type\": \"A unbound\", \"Similarity\": 1.0008914347435398}, {\"index\": 45, \"Type\": \"A unbound\", \"Similarity\": 1.0248464605607515}, {\"index\": 46, \"Type\": \"A unbound\", \"Similarity\": 0.9939717514168526}, {\"index\": 47, \"Type\": \"A unbound\", \"Similarity\": 1.0338632534059793}, {\"index\": 48, \"Type\": \"A unbound\", \"Similarity\": 0.9757281121408851}, {\"index\": 49, \"Type\": \"A unbound\", \"Similarity\": 1.031213725450365}, {\"index\": 50, \"Type\": \"A unbound\", \"Similarity\": 0.9801770323793539}, {\"index\": 51, \"Type\": \"A unbound\", \"Similarity\": 0.9511429179345173}, {\"index\": 52, \"Type\": \"A unbound\", \"Similarity\": 0.9939497342122882}, {\"index\": 53, \"Type\": \"A unbound\", \"Similarity\": 0.9790498808792163}, {\"index\": 54, \"Type\": \"A unbound\", \"Similarity\": 0.9949944344271985}, {\"index\": 55, \"Type\": \"A unbound\", \"Similarity\": 0.9946880646319793}, {\"index\": 56, \"Type\": \"A unbound\", \"Similarity\": 0.9903870564831944}, {\"index\": 57, \"Type\": \"A unbound\", \"Similarity\": 0.9869758960224309}, {\"index\": 58, \"Type\": \"A unbound\", \"Similarity\": 0.9974566013635018}, {\"index\": 59, \"Type\": \"A unbound\", \"Similarity\": 0.984205869033775}, {\"index\": 60, \"Type\": \"A unbound\", \"Similarity\": 0.9595816049271464}, {\"index\": 61, \"Type\": \"A unbound\", \"Similarity\": 0.9874012211552241}, {\"index\": 62, \"Type\": \"A unbound\", \"Similarity\": 1.014305482919947}, {\"index\": 63, \"Type\": \"A unbound\", \"Similarity\": 1.0366206507135576}, {\"index\": 64, \"Type\": \"A unbound\", \"Similarity\": 0.9678191219047719}, {\"index\": 65, \"Type\": \"A unbound\", \"Similarity\": 1.0024025063350603}, {\"index\": 66, \"Type\": \"A unbound\", \"Similarity\": 1.0112079837098895}, {\"index\": 67, \"Type\": \"A unbound\", \"Similarity\": 0.9955176147263869}, {\"index\": 68, \"Type\": \"A unbound\", \"Similarity\": 1.000996637027677}, {\"index\": 69, \"Type\": \"A unbound\", \"Similarity\": 0.9838302954591955}, {\"index\": 70, \"Type\": \"A unbound\", \"Similarity\": 0.9951107791512744}, {\"index\": 71, \"Type\": \"A unbound\", \"Similarity\": 1.0046993926619034}, {\"index\": 72, \"Type\": \"A unbound\", \"Similarity\": 1.0055567228544782}, {\"index\": 73, \"Type\": \"A unbound\", \"Similarity\": 1.0428987448810723}, {\"index\": 74, \"Type\": \"A unbound\", \"Similarity\": 0.9692527248854141}, {\"index\": 75, \"Type\": \"A unbound\", \"Similarity\": 1.027945753493203}, {\"index\": 76, \"Type\": \"A unbound\", \"Similarity\": 0.9738131534274661}, {\"index\": 77, \"Type\": \"A unbound\", \"Similarity\": 0.9999082444465152}, {\"index\": 78, \"Type\": \"A unbound\", \"Similarity\": 0.9988648799355169}, {\"index\": 79, \"Type\": \"A unbound\", \"Similarity\": 1.022605352219526}, {\"index\": 80, \"Type\": \"A unbound\", \"Similarity\": 0.9970731371764339}, {\"index\": 81, \"Type\": \"A unbound\", \"Similarity\": 0.9752435264536661}, {\"index\": 82, \"Type\": \"A unbound\", \"Similarity\": 0.9958106924442945}, {\"index\": 83, \"Type\": \"A unbound\", \"Similarity\": 0.977398781589543}, {\"index\": 84, \"Type\": \"A unbound\", \"Similarity\": 0.9787644478775558}, {\"index\": 85, \"Type\": \"A unbound\", \"Similarity\": 1.0080094060050728}, {\"index\": 86, \"Type\": \"A unbound\", \"Similarity\": 0.9901770031945432}, {\"index\": 87, \"Type\": \"A unbound\", \"Similarity\": 0.9471102873012106}, {\"index\": 88, \"Type\": \"A unbound\", \"Similarity\": 1.0585542961983339}, {\"index\": 89, \"Type\": \"A unbound\", \"Similarity\": 1.0333260671368507}, {\"index\": 90, \"Type\": \"A unbound\", \"Similarity\": 0.9860842463511275}, {\"index\": 91, \"Type\": \"A unbound\", \"Similarity\": 0.9755250119809169}, {\"index\": 92, \"Type\": \"A unbound\", \"Similarity\": 0.9870110548276395}, {\"index\": 93, \"Type\": \"A unbound\", \"Similarity\": 0.9732187272992466}, {\"index\": 94, \"Type\": \"A unbound\", \"Similarity\": 0.9782384130737354}, {\"index\": 95, \"Type\": \"A unbound\", \"Similarity\": 1.0324714581660503}, {\"index\": 96, \"Type\": \"A unbound\", \"Similarity\": 0.9873596783113563}, {\"index\": 97, \"Type\": \"A unbound\", \"Similarity\": 1.0114785331064433}, {\"index\": 98, \"Type\": \"A unbound\", \"Similarity\": 1.047686746990552}, {\"index\": 99, \"Type\": \"A unbound\", \"Similarity\": 1.0345088955489954}, {\"index\": 0, \"Type\": \"A random\", \"Similarity\": 0.00933176128224713}, {\"index\": 1, \"Type\": \"A random\", \"Similarity\": -0.0004024025043494923}, {\"index\": 2, \"Type\": \"A random\", \"Similarity\": -0.012416340659317425}, {\"index\": 3, \"Type\": \"A random\", \"Similarity\": 0.015880377446041895}, {\"index\": 4, \"Type\": \"A random\", \"Similarity\": 0.016313952421433277}, {\"index\": 5, \"Type\": \"A random\", \"Similarity\": 0.009261599253957047}, {\"index\": 6, \"Type\": \"A random\", \"Similarity\": -0.036104442600459405}, {\"index\": 7, \"Type\": \"A random\", \"Similarity\": -0.005931400332567773}, {\"index\": 8, \"Type\": \"A random\", \"Similarity\": -0.0436756809802895}, {\"index\": 9, \"Type\": \"A random\", \"Similarity\": 0.0024941853423013994}, {\"index\": 10, \"Type\": \"A random\", \"Similarity\": 0.008728619399764583}, {\"index\": 11, \"Type\": \"A random\", \"Similarity\": -0.007309356509179891}, {\"index\": 12, \"Type\": \"A random\", \"Similarity\": -0.015789940792024264}, {\"index\": 13, \"Type\": \"A random\", \"Similarity\": 0.009641388923314516}, {\"index\": 14, \"Type\": \"A random\", \"Similarity\": -0.01834109331587984}, {\"index\": 15, \"Type\": \"A random\", \"Similarity\": 0.009630921117196949}, {\"index\": 16, \"Type\": \"A random\", \"Similarity\": -0.014760379051705144}, {\"index\": 17, \"Type\": \"A random\", \"Similarity\": -0.012401067441146314}, {\"index\": 18, \"Type\": \"A random\", \"Similarity\": 0.028841619207013496}, {\"index\": 19, \"Type\": \"A random\", \"Similarity\": 0.0045687755326561386}, {\"index\": 20, \"Type\": \"A random\", \"Similarity\": 0.019204251775735412}, {\"index\": 21, \"Type\": \"A random\", \"Similarity\": -0.0037273281999955846}, {\"index\": 22, \"Type\": \"A random\", \"Similarity\": -0.014199721077086738}, {\"index\": 23, \"Type\": \"A random\", \"Similarity\": 0.03897447954644849}, {\"index\": 24, \"Type\": \"A random\", \"Similarity\": 0.022722659084826752}, {\"index\": 25, \"Type\": \"A random\", \"Similarity\": -0.01789846386365617}, {\"index\": 26, \"Type\": \"A random\", \"Similarity\": 0.003480753408834067}, {\"index\": 27, \"Type\": \"A random\", \"Similarity\": -0.026157117219959083}, {\"index\": 28, \"Type\": \"A random\", \"Similarity\": 0.022159640475143533}, {\"index\": 29, \"Type\": \"A random\", \"Similarity\": -0.01880439801901019}, {\"index\": 30, \"Type\": \"A random\", \"Similarity\": -0.009021442927075117}, {\"index\": 31, \"Type\": \"A random\", \"Similarity\": 0.009394959878215453}, {\"index\": 32, \"Type\": \"A random\", \"Similarity\": 0.006731329466996197}, {\"index\": 33, \"Type\": \"A random\", \"Similarity\": 0.002838113007559843}, {\"index\": 34, \"Type\": \"A random\", \"Similarity\": 0.011670982848322041}, {\"index\": 35, \"Type\": \"A random\", \"Similarity\": 0.004843689870635093}, {\"index\": 36, \"Type\": \"A random\", \"Similarity\": -0.011144383178675988}, {\"index\": 37, \"Type\": \"A random\", \"Similarity\": 0.018850669358841294}, {\"index\": 38, \"Type\": \"A random\", \"Similarity\": -0.008744549461959619}, {\"index\": 39, \"Type\": \"A random\", \"Similarity\": 0.022529589032323053}, {\"index\": 40, \"Type\": \"A random\", \"Similarity\": 0.022230320465602197}, {\"index\": 41, \"Type\": \"A random\", \"Similarity\": -0.0001128950306611195}, {\"index\": 42, \"Type\": \"A random\", \"Similarity\": -0.006689404118801079}, {\"index\": 43, \"Type\": \"A random\", \"Similarity\": 0.008187885128973785}, {\"index\": 44, \"Type\": \"A random\", \"Similarity\": -0.030172618072146835}, {\"index\": 45, \"Type\": \"A random\", \"Similarity\": -0.011962143050790144}, {\"index\": 46, \"Type\": \"A random\", \"Similarity\": 0.025519963188544346}, {\"index\": 47, \"Type\": \"A random\", \"Similarity\": 0.015013355139473975}, {\"index\": 48, \"Type\": \"A random\", \"Similarity\": -0.010823911504083952}, {\"index\": 49, \"Type\": \"A random\", \"Similarity\": -0.009377067066098924}, {\"index\": 50, \"Type\": \"A random\", \"Similarity\": 0.00419876532922828}, {\"index\": 51, \"Type\": \"A random\", \"Similarity\": 0.046799583383120666}, {\"index\": 52, \"Type\": \"A random\", \"Similarity\": 0.0032507308636508226}, {\"index\": 53, \"Type\": \"A random\", \"Similarity\": -0.04195375436508939}, {\"index\": 54, \"Type\": \"A random\", \"Similarity\": -0.003627789845933313}, {\"index\": 55, \"Type\": \"A random\", \"Similarity\": 0.029975903607994934}, {\"index\": 56, \"Type\": \"A random\", \"Similarity\": -0.00272499260365883}, {\"index\": 57, \"Type\": \"A random\", \"Similarity\": 0.021325967591828334}, {\"index\": 58, \"Type\": \"A random\", \"Similarity\": 0.02570409760520211}, {\"index\": 59, \"Type\": \"A random\", \"Similarity\": -0.02422315880165118}, {\"index\": 60, \"Type\": \"A random\", \"Similarity\": 0.0366021117412134}, {\"index\": 61, \"Type\": \"A random\", \"Similarity\": -0.02429666730031947}, {\"index\": 62, \"Type\": \"A random\", \"Similarity\": -0.0049352055748625966}, {\"index\": 63, \"Type\": \"A random\", \"Similarity\": -0.0163497861906651}, {\"index\": 64, \"Type\": \"A random\", \"Similarity\": -0.01757560199537921}, {\"index\": 65, \"Type\": \"A random\", \"Similarity\": 0.00427305158399304}, {\"index\": 66, \"Type\": \"A random\", \"Similarity\": 0.010301101382771563}, {\"index\": 67, \"Type\": \"A random\", \"Similarity\": -0.02976922582881701}, {\"index\": 68, \"Type\": \"A random\", \"Similarity\": 0.017784588856097575}, {\"index\": 69, \"Type\": \"A random\", \"Similarity\": 0.037303300818380444}, {\"index\": 70, \"Type\": \"A random\", \"Similarity\": 0.023397494865635585}, {\"index\": 71, \"Type\": \"A random\", \"Similarity\": 0.0029042379593821393}, {\"index\": 72, \"Type\": \"A random\", \"Similarity\": 0.05900420295209506}, {\"index\": 73, \"Type\": \"A random\", \"Similarity\": 0.0492728992629996}, {\"index\": 74, \"Type\": \"A random\", \"Similarity\": -0.0028393118578117064}, {\"index\": 75, \"Type\": \"A random\", \"Similarity\": 0.01480613359946448}, {\"index\": 76, \"Type\": \"A random\", \"Similarity\": 0.0017161457185815722}, {\"index\": 77, \"Type\": \"A random\", \"Similarity\": -0.005634276894614414}, {\"index\": 78, \"Type\": \"A random\", \"Similarity\": 0.0198252316871829}, {\"index\": 79, \"Type\": \"A random\", \"Similarity\": -0.03002635848778807}, {\"index\": 80, \"Type\": \"A random\", \"Similarity\": -0.007929857241859805}, {\"index\": 81, \"Type\": \"A random\", \"Similarity\": 0.031607248258589814}, {\"index\": 82, \"Type\": \"A random\", \"Similarity\": 0.016533576555408307}, {\"index\": 83, \"Type\": \"A random\", \"Similarity\": -0.022692441884953844}, {\"index\": 84, \"Type\": \"A random\", \"Similarity\": 0.042997203770992275}, {\"index\": 85, \"Type\": \"A random\", \"Similarity\": 0.007274472286655804}, {\"index\": 86, \"Type\": \"A random\", \"Similarity\": 0.005652377856611632}, {\"index\": 87, \"Type\": \"A random\", \"Similarity\": -0.007478914091372058}, {\"index\": 88, \"Type\": \"A random\", \"Similarity\": 0.006876374623970226}, {\"index\": 89, \"Type\": \"A random\", \"Similarity\": 0.005056888009379838}, {\"index\": 90, \"Type\": \"A random\", \"Similarity\": -0.0038327901990552215}, {\"index\": 91, \"Type\": \"A random\", \"Similarity\": -0.03559546740739188}, {\"index\": 92, \"Type\": \"A random\", \"Similarity\": -0.02056462919048858}, {\"index\": 93, \"Type\": \"A random\", \"Similarity\": -0.03180084452114447}, {\"index\": 94, \"Type\": \"A random\", \"Similarity\": -0.04254198169485605}, {\"index\": 95, \"Type\": \"A random\", \"Similarity\": 0.04197875927753391}, {\"index\": 96, \"Type\": \"A random\", \"Similarity\": -0.0064089257563053744}, {\"index\": 97, \"Type\": \"A random\", \"Similarity\": 0.002865846917959008}, {\"index\": 98, \"Type\": \"A random\", \"Similarity\": -0.041090729233381945}, {\"index\": 99, \"Type\": \"A random\", \"Similarity\": -0.039601316348398155}]}}, {\"mode\": \"vega-lite\"});\n",
       "</script>"
      ],
      "text/plain": [
       "alt.Chart(...)"
      ]
     },
     "execution_count": 14,
     "metadata": {},
     "output_type": "execute_result"
    }
   ],
   "source": [
    "res = [experiment() for _ in range(100)]\n",
    "\n",
    "df = pd.DataFrame(res).reset_index()\n",
    "\n",
    "df_melted_a = df.reset_index().melt(\n",
    "    id_vars=\"index\", \n",
    "    value_vars=[\"A unbound\", \"A random\"], \n",
    "    var_name=\"Type\", \n",
    "    value_name=\"Similarity\"\n",
    ")\n",
    "\n",
    "\n",
    "chart = alt.Chart(df_melted_a).mark_line().encode(\n",
    "    x=alt.X(\"index:Q\", title=\"Experiment #\"),\n",
    "    y=alt.Y(\"Similarity:Q\", title=\"Similarity\", scale=alt.Scale(domain=[-1, 1])),\n",
    "    color=alt.Color(\"Type:N\", title=\"Legend\"),  # adds a legend based on the \"Type\" column\n",
    "    tooltip=[\"index:Q\", \"Type:N\", \"Similarity:Q\"]\n",
    ").properties(\n",
    "    title=\"Similarity of A with Unbound vs Random Vectors\",\n",
    "    width=800,\n",
    "    height=300\n",
    ").configure_title(\n",
    "    fontSize=32,\n",
    "    anchor=\"start\"\n",
    ")\n",
    "\n",
    "chart"
   ]
  },
  {
   "cell_type": "code",
   "execution_count": 15,
   "id": "e70e589a-764e-4189-91a3-4018f73003b1",
   "metadata": {},
   "outputs": [
    {
     "name": "stderr",
     "output_type": "stream",
     "text": [
      "L:\\Coding stuff\\Anaconda\\Lib\\site-packages\\altair\\utils\\core.py:395: FutureWarning: the convert_dtype parameter is deprecated and will be removed in a future version.  Do ``ser.astype(object).apply()`` instead if you want ``convert_dtype=False``.\n",
      "  col = df[col_name].apply(to_list_if_array, convert_dtype=False)\n"
     ]
    },
    {
     "data": {
      "text/html": [
       "\n",
       "<style>\n",
       "  #altair-viz-047715816b16485ca28fc4e5255c2941.vega-embed {\n",
       "    width: 100%;\n",
       "    display: flex;\n",
       "  }\n",
       "\n",
       "  #altair-viz-047715816b16485ca28fc4e5255c2941.vega-embed details,\n",
       "  #altair-viz-047715816b16485ca28fc4e5255c2941.vega-embed details summary {\n",
       "    position: relative;\n",
       "  }\n",
       "</style>\n",
       "<div id=\"altair-viz-047715816b16485ca28fc4e5255c2941\"></div>\n",
       "<script type=\"text/javascript\">\n",
       "  var VEGA_DEBUG = (typeof VEGA_DEBUG == \"undefined\") ? {} : VEGA_DEBUG;\n",
       "  (function(spec, embedOpt){\n",
       "    let outputDiv = document.currentScript.previousElementSibling;\n",
       "    if (outputDiv.id !== \"altair-viz-047715816b16485ca28fc4e5255c2941\") {\n",
       "      outputDiv = document.getElementById(\"altair-viz-047715816b16485ca28fc4e5255c2941\");\n",
       "    }\n",
       "    const paths = {\n",
       "      \"vega\": \"https://cdn.jsdelivr.net/npm/vega@5?noext\",\n",
       "      \"vega-lib\": \"https://cdn.jsdelivr.net/npm/vega-lib?noext\",\n",
       "      \"vega-lite\": \"https://cdn.jsdelivr.net/npm/vega-lite@5.8.0?noext\",\n",
       "      \"vega-embed\": \"https://cdn.jsdelivr.net/npm/vega-embed@6?noext\",\n",
       "    };\n",
       "\n",
       "    function maybeLoadScript(lib, version) {\n",
       "      var key = `${lib.replace(\"-\", \"\")}_version`;\n",
       "      return (VEGA_DEBUG[key] == version) ?\n",
       "        Promise.resolve(paths[lib]) :\n",
       "        new Promise(function(resolve, reject) {\n",
       "          var s = document.createElement('script');\n",
       "          document.getElementsByTagName(\"head\")[0].appendChild(s);\n",
       "          s.async = true;\n",
       "          s.onload = () => {\n",
       "            VEGA_DEBUG[key] = version;\n",
       "            return resolve(paths[lib]);\n",
       "          };\n",
       "          s.onerror = () => reject(`Error loading script: ${paths[lib]}`);\n",
       "          s.src = paths[lib];\n",
       "        });\n",
       "    }\n",
       "\n",
       "    function showError(err) {\n",
       "      outputDiv.innerHTML = `<div class=\"error\" style=\"color:red;\">${err}</div>`;\n",
       "      throw err;\n",
       "    }\n",
       "\n",
       "    function displayChart(vegaEmbed) {\n",
       "      vegaEmbed(outputDiv, spec, embedOpt)\n",
       "        .catch(err => showError(`Javascript Error: ${err.message}<br>This usually means there's a typo in your chart specification. See the javascript console for the full traceback.`));\n",
       "    }\n",
       "\n",
       "    if(typeof define === \"function\" && define.amd) {\n",
       "      requirejs.config({paths});\n",
       "      require([\"vega-embed\"], displayChart, err => showError(`Error loading script: ${err.message}`));\n",
       "    } else {\n",
       "      maybeLoadScript(\"vega\", \"5\")\n",
       "        .then(() => maybeLoadScript(\"vega-lite\", \"5.8.0\"))\n",
       "        .then(() => maybeLoadScript(\"vega-embed\", \"6\"))\n",
       "        .catch(showError)\n",
       "        .then(() => displayChart(vegaEmbed));\n",
       "    }\n",
       "  })({\"config\": {\"view\": {\"continuousWidth\": 300, \"continuousHeight\": 300}, \"title\": {\"anchor\": \"start\", \"fontSize\": 32}}, \"data\": {\"name\": \"data-5b719df8eb40915f158d4a844b681f49\"}, \"mark\": {\"type\": \"line\"}, \"encoding\": {\"color\": {\"field\": \"Type\", \"title\": \"Legend\", \"type\": \"nominal\"}, \"tooltip\": [{\"field\": \"index\", \"type\": \"quantitative\"}, {\"field\": \"Type\", \"type\": \"nominal\"}, {\"field\": \"Similarity\", \"type\": \"quantitative\"}], \"x\": {\"field\": \"index\", \"title\": \"Experiment #\", \"type\": \"quantitative\"}, \"y\": {\"field\": \"Similarity\", \"scale\": {\"domain\": [-1, 1]}, \"title\": \"Similarity\", \"type\": \"quantitative\"}}, \"height\": 300, \"title\": \"Similarity of B with Unbound vs Random Vectors\", \"width\": 800, \"$schema\": \"https://vega.github.io/schema/vega-lite/v5.8.0.json\", \"datasets\": {\"data-5b719df8eb40915f158d4a844b681f49\": [{\"index\": 0, \"Type\": \"B unbound\", \"Similarity\": 1.024393611243588}, {\"index\": 1, \"Type\": \"B unbound\", \"Similarity\": 0.9946461663361815}, {\"index\": 2, \"Type\": \"B unbound\", \"Similarity\": 0.9862963479176856}, {\"index\": 3, \"Type\": \"B unbound\", \"Similarity\": 1.030536869678594}, {\"index\": 4, \"Type\": \"B unbound\", \"Similarity\": 0.9886543270065414}, {\"index\": 5, \"Type\": \"B unbound\", \"Similarity\": 1.0235325360692806}, {\"index\": 6, \"Type\": \"B unbound\", \"Similarity\": 1.011826949592524}, {\"index\": 7, \"Type\": \"B unbound\", \"Similarity\": 1.0605979053288581}, {\"index\": 8, \"Type\": \"B unbound\", \"Similarity\": 0.9783080042995016}, {\"index\": 9, \"Type\": \"B unbound\", \"Similarity\": 0.9723862842320569}, {\"index\": 10, \"Type\": \"B unbound\", \"Similarity\": 1.0096125785441044}, {\"index\": 11, \"Type\": \"B unbound\", \"Similarity\": 1.0183099922305834}, {\"index\": 12, \"Type\": \"B unbound\", \"Similarity\": 0.9901656310621443}, {\"index\": 13, \"Type\": \"B unbound\", \"Similarity\": 0.9733894489490966}, {\"index\": 14, \"Type\": \"B unbound\", \"Similarity\": 1.0169864993515334}, {\"index\": 15, \"Type\": \"B unbound\", \"Similarity\": 1.0070301714128087}, {\"index\": 16, \"Type\": \"B unbound\", \"Similarity\": 0.9998408594977047}, {\"index\": 17, \"Type\": \"B unbound\", \"Similarity\": 0.9884569764874317}, {\"index\": 18, \"Type\": \"B unbound\", \"Similarity\": 0.9961929587650014}, {\"index\": 19, \"Type\": \"B unbound\", \"Similarity\": 1.005316752814739}, {\"index\": 20, \"Type\": \"B unbound\", \"Similarity\": 0.9823173024824527}, {\"index\": 21, \"Type\": \"B unbound\", \"Similarity\": 0.9772497276392602}, {\"index\": 22, \"Type\": \"B unbound\", \"Similarity\": 0.988554385767931}, {\"index\": 23, \"Type\": \"B unbound\", \"Similarity\": 1.029850144370463}, {\"index\": 24, \"Type\": \"B unbound\", \"Similarity\": 0.9855112907337407}, {\"index\": 25, \"Type\": \"B unbound\", \"Similarity\": 0.9719788694664109}, {\"index\": 26, \"Type\": \"B unbound\", \"Similarity\": 1.0049905909382395}, {\"index\": 27, \"Type\": \"B unbound\", \"Similarity\": 1.0162531109584108}, {\"index\": 28, \"Type\": \"B unbound\", \"Similarity\": 0.9775148048015485}, {\"index\": 29, \"Type\": \"B unbound\", \"Similarity\": 1.0054560613687338}, {\"index\": 30, \"Type\": \"B unbound\", \"Similarity\": 0.9992796424499969}, {\"index\": 31, \"Type\": \"B unbound\", \"Similarity\": 1.0333071273862238}, {\"index\": 32, \"Type\": \"B unbound\", \"Similarity\": 1.0146711968979185}, {\"index\": 33, \"Type\": \"B unbound\", \"Similarity\": 0.9772997478581006}, {\"index\": 34, \"Type\": \"B unbound\", \"Similarity\": 0.9765687737864456}, {\"index\": 35, \"Type\": \"B unbound\", \"Similarity\": 1.0444996326798464}, {\"index\": 36, \"Type\": \"B unbound\", \"Similarity\": 0.9775603879696034}, {\"index\": 37, \"Type\": \"B unbound\", \"Similarity\": 0.9678669633793799}, {\"index\": 38, \"Type\": \"B unbound\", \"Similarity\": 1.007178847755433}, {\"index\": 39, \"Type\": \"B unbound\", \"Similarity\": 1.004555035796486}, {\"index\": 40, \"Type\": \"B unbound\", \"Similarity\": 0.9959469774253489}, {\"index\": 41, \"Type\": \"B unbound\", \"Similarity\": 1.0081185971598035}, {\"index\": 42, \"Type\": \"B unbound\", \"Similarity\": 0.9909479592700591}, {\"index\": 43, \"Type\": \"B unbound\", \"Similarity\": 0.9957364229900318}, {\"index\": 44, \"Type\": \"B unbound\", \"Similarity\": 1.0008914347435396}, {\"index\": 45, \"Type\": \"B unbound\", \"Similarity\": 1.024846460560751}, {\"index\": 46, \"Type\": \"B unbound\", \"Similarity\": 0.9939717514168522}, {\"index\": 47, \"Type\": \"B unbound\", \"Similarity\": 1.0338632534059793}, {\"index\": 48, \"Type\": \"B unbound\", \"Similarity\": 0.9757281121408853}, {\"index\": 49, \"Type\": \"B unbound\", \"Similarity\": 1.031213725450365}, {\"index\": 50, \"Type\": \"B unbound\", \"Similarity\": 0.9801770323793535}, {\"index\": 51, \"Type\": \"B unbound\", \"Similarity\": 0.9511429179345169}, {\"index\": 52, \"Type\": \"B unbound\", \"Similarity\": 0.993949734212288}, {\"index\": 53, \"Type\": \"B unbound\", \"Similarity\": 0.9790498808792165}, {\"index\": 54, \"Type\": \"B unbound\", \"Similarity\": 0.9949944344271986}, {\"index\": 55, \"Type\": \"B unbound\", \"Similarity\": 0.9946880646319791}, {\"index\": 56, \"Type\": \"B unbound\", \"Similarity\": 0.9903870564831946}, {\"index\": 57, \"Type\": \"B unbound\", \"Similarity\": 0.9869758960224309}, {\"index\": 58, \"Type\": \"B unbound\", \"Similarity\": 0.9974566013635012}, {\"index\": 59, \"Type\": \"B unbound\", \"Similarity\": 0.9842058690337753}, {\"index\": 60, \"Type\": \"B unbound\", \"Similarity\": 0.9595816049271457}, {\"index\": 61, \"Type\": \"B unbound\", \"Similarity\": 0.987401221155224}, {\"index\": 62, \"Type\": \"B unbound\", \"Similarity\": 1.014305482919947}, {\"index\": 63, \"Type\": \"B unbound\", \"Similarity\": 1.0366206507135576}, {\"index\": 64, \"Type\": \"B unbound\", \"Similarity\": 0.9678191219047716}, {\"index\": 65, \"Type\": \"B unbound\", \"Similarity\": 1.00240250633506}, {\"index\": 66, \"Type\": \"B unbound\", \"Similarity\": 1.0112079837098893}, {\"index\": 67, \"Type\": \"B unbound\", \"Similarity\": 0.9955176147263868}, {\"index\": 68, \"Type\": \"B unbound\", \"Similarity\": 1.0009966370276777}, {\"index\": 69, \"Type\": \"B unbound\", \"Similarity\": 0.9838302954591961}, {\"index\": 70, \"Type\": \"B unbound\", \"Similarity\": 0.9951107791512741}, {\"index\": 71, \"Type\": \"B unbound\", \"Similarity\": 1.0046993926619034}, {\"index\": 72, \"Type\": \"B unbound\", \"Similarity\": 1.0055567228544784}, {\"index\": 73, \"Type\": \"B unbound\", \"Similarity\": 1.0428987448810723}, {\"index\": 74, \"Type\": \"B unbound\", \"Similarity\": 0.9692527248854143}, {\"index\": 75, \"Type\": \"B unbound\", \"Similarity\": 1.0279457534932033}, {\"index\": 76, \"Type\": \"B unbound\", \"Similarity\": 0.9738131534274662}, {\"index\": 77, \"Type\": \"B unbound\", \"Similarity\": 0.9999082444465152}, {\"index\": 78, \"Type\": \"B unbound\", \"Similarity\": 0.998864879935517}, {\"index\": 79, \"Type\": \"B unbound\", \"Similarity\": 1.0226053522195262}, {\"index\": 80, \"Type\": \"B unbound\", \"Similarity\": 0.9970731371764341}, {\"index\": 81, \"Type\": \"B unbound\", \"Similarity\": 0.9752435264536656}, {\"index\": 82, \"Type\": \"B unbound\", \"Similarity\": 0.9958106924442943}, {\"index\": 83, \"Type\": \"B unbound\", \"Similarity\": 0.9773987815895431}, {\"index\": 84, \"Type\": \"B unbound\", \"Similarity\": 0.9787644478775558}, {\"index\": 85, \"Type\": \"B unbound\", \"Similarity\": 1.0080094060050728}, {\"index\": 86, \"Type\": \"B unbound\", \"Similarity\": 0.9901770031945429}, {\"index\": 87, \"Type\": \"B unbound\", \"Similarity\": 0.9471102873012105}, {\"index\": 88, \"Type\": \"B unbound\", \"Similarity\": 1.0585542961983334}, {\"index\": 89, \"Type\": \"B unbound\", \"Similarity\": 1.0333260671368512}, {\"index\": 90, \"Type\": \"B unbound\", \"Similarity\": 0.9860842463511273}, {\"index\": 91, \"Type\": \"B unbound\", \"Similarity\": 0.975525011980917}, {\"index\": 92, \"Type\": \"B unbound\", \"Similarity\": 0.9870110548276396}, {\"index\": 93, \"Type\": \"B unbound\", \"Similarity\": 0.9732187272992466}, {\"index\": 94, \"Type\": \"B unbound\", \"Similarity\": 0.9782384130737355}, {\"index\": 95, \"Type\": \"B unbound\", \"Similarity\": 1.0324714581660506}, {\"index\": 96, \"Type\": \"B unbound\", \"Similarity\": 0.9873596783113561}, {\"index\": 97, \"Type\": \"B unbound\", \"Similarity\": 1.0114785331064435}, {\"index\": 98, \"Type\": \"B unbound\", \"Similarity\": 1.047686746990552}, {\"index\": 99, \"Type\": \"B unbound\", \"Similarity\": 1.0345088955489954}, {\"index\": 0, \"Type\": \"B random\", \"Similarity\": -0.04930674592642218}, {\"index\": 1, \"Type\": \"B random\", \"Similarity\": -0.00042882505540719595}, {\"index\": 2, \"Type\": \"B random\", \"Similarity\": 0.01669258367436133}, {\"index\": 3, \"Type\": \"B random\", \"Similarity\": 0.010364375044634357}, {\"index\": 4, \"Type\": \"B random\", \"Similarity\": 0.009762492053345746}, {\"index\": 5, \"Type\": \"B random\", \"Similarity\": 0.016641301741223847}, {\"index\": 6, \"Type\": \"B random\", \"Similarity\": -0.012572791614421852}, {\"index\": 7, \"Type\": \"B random\", \"Similarity\": 0.048610054662220285}, {\"index\": 8, \"Type\": \"B random\", \"Similarity\": -0.04669965171864561}, {\"index\": 9, \"Type\": \"B random\", \"Similarity\": 0.004124204970722942}, {\"index\": 10, \"Type\": \"B random\", \"Similarity\": 0.03351023828298892}, {\"index\": 11, \"Type\": \"B random\", \"Similarity\": -0.010607002777010419}, {\"index\": 12, \"Type\": \"B random\", \"Similarity\": 0.021349347894073757}, {\"index\": 13, \"Type\": \"B random\", \"Similarity\": -0.01725412134128792}, {\"index\": 14, \"Type\": \"B random\", \"Similarity\": -0.013990906718092428}, {\"index\": 15, \"Type\": \"B random\", \"Similarity\": -0.015221975267473587}, {\"index\": 16, \"Type\": \"B random\", \"Similarity\": 0.03338034906029665}, {\"index\": 17, \"Type\": \"B random\", \"Similarity\": -0.00019020550768855316}, {\"index\": 18, \"Type\": \"B random\", \"Similarity\": -0.0535031188403313}, {\"index\": 19, \"Type\": \"B random\", \"Similarity\": 0.010832201123917825}, {\"index\": 20, \"Type\": \"B random\", \"Similarity\": 0.0035641793298230944}, {\"index\": 21, \"Type\": \"B random\", \"Similarity\": -0.04223426937783759}, {\"index\": 22, \"Type\": \"B random\", \"Similarity\": 0.011128260147833078}, {\"index\": 23, \"Type\": \"B random\", \"Similarity\": -0.010480825563510517}, {\"index\": 24, \"Type\": \"B random\", \"Similarity\": -0.025188789327641695}, {\"index\": 25, \"Type\": \"B random\", \"Similarity\": 0.007653417785695119}, {\"index\": 26, \"Type\": \"B random\", \"Similarity\": -0.0024163465029390973}, {\"index\": 27, \"Type\": \"B random\", \"Similarity\": 0.008355099765516908}, {\"index\": 28, \"Type\": \"B random\", \"Similarity\": -0.02478660334028228}, {\"index\": 29, \"Type\": \"B random\", \"Similarity\": -0.025344596096746184}, {\"index\": 30, \"Type\": \"B random\", \"Similarity\": -0.027923558508243594}, {\"index\": 31, \"Type\": \"B random\", \"Similarity\": -0.025152587527882426}, {\"index\": 32, \"Type\": \"B random\", \"Similarity\": -0.014280758626888622}, {\"index\": 33, \"Type\": \"B random\", \"Similarity\": -0.03059639301157361}, {\"index\": 34, \"Type\": \"B random\", \"Similarity\": -0.0055823936773547736}, {\"index\": 35, \"Type\": \"B random\", \"Similarity\": 0.02505079864109315}, {\"index\": 36, \"Type\": \"B random\", \"Similarity\": -0.01428583333109116}, {\"index\": 37, \"Type\": \"B random\", \"Similarity\": -0.035248588415285324}, {\"index\": 38, \"Type\": \"B random\", \"Similarity\": 0.05045472275981117}, {\"index\": 39, \"Type\": \"B random\", \"Similarity\": 0.023603681362251855}, {\"index\": 40, \"Type\": \"B random\", \"Similarity\": -0.008754256393611997}, {\"index\": 41, \"Type\": \"B random\", \"Similarity\": 0.019912908039201285}, {\"index\": 42, \"Type\": \"B random\", \"Similarity\": 0.01468079052151977}, {\"index\": 43, \"Type\": \"B random\", \"Similarity\": 0.012450527866454099}, {\"index\": 44, \"Type\": \"B random\", \"Similarity\": 0.012481754611790514}, {\"index\": 45, \"Type\": \"B random\", \"Similarity\": -0.05363254033256645}, {\"index\": 46, \"Type\": \"B random\", \"Similarity\": -0.004753877297906964}, {\"index\": 47, \"Type\": \"B random\", \"Similarity\": -0.06452911655302475}, {\"index\": 48, \"Type\": \"B random\", \"Similarity\": -0.016217341949519033}, {\"index\": 49, \"Type\": \"B random\", \"Similarity\": 0.01017187665133165}, {\"index\": 50, \"Type\": \"B random\", \"Similarity\": -0.006280255663788557}, {\"index\": 51, \"Type\": \"B random\", \"Similarity\": 0.03878781104459931}, {\"index\": 52, \"Type\": \"B random\", \"Similarity\": -0.0039699191708794474}, {\"index\": 53, \"Type\": \"B random\", \"Similarity\": 0.030259545452021513}, {\"index\": 54, \"Type\": \"B random\", \"Similarity\": -0.0017063408975258616}, {\"index\": 55, \"Type\": \"B random\", \"Similarity\": -0.0057976076883668815}, {\"index\": 56, \"Type\": \"B random\", \"Similarity\": 0.03371306165610433}, {\"index\": 57, \"Type\": \"B random\", \"Similarity\": 0.00017639442819688257}, {\"index\": 58, \"Type\": \"B random\", \"Similarity\": 0.018827367419832593}, {\"index\": 59, \"Type\": \"B random\", \"Similarity\": -0.02463584708430347}, {\"index\": 60, \"Type\": \"B random\", \"Similarity\": 0.04295519831351909}, {\"index\": 61, \"Type\": \"B random\", \"Similarity\": -0.03934124286157177}, {\"index\": 62, \"Type\": \"B random\", \"Similarity\": 0.03254928511072637}, {\"index\": 63, \"Type\": \"B random\", \"Similarity\": 0.036428825951940406}, {\"index\": 64, \"Type\": \"B random\", \"Similarity\": -0.006398035018534415}, {\"index\": 65, \"Type\": \"B random\", \"Similarity\": 0.02449017386542524}, {\"index\": 66, \"Type\": \"B random\", \"Similarity\": -0.011538389318700583}, {\"index\": 67, \"Type\": \"B random\", \"Similarity\": -0.0013437847446070182}, {\"index\": 68, \"Type\": \"B random\", \"Similarity\": -0.009261582435843359}, {\"index\": 69, \"Type\": \"B random\", \"Similarity\": -0.038600853656226945}, {\"index\": 70, \"Type\": \"B random\", \"Similarity\": 0.04496027356149004}, {\"index\": 71, \"Type\": \"B random\", \"Similarity\": 0.05437862917302838}, {\"index\": 72, \"Type\": \"B random\", \"Similarity\": 0.037677745951354286}, {\"index\": 73, \"Type\": \"B random\", \"Similarity\": -0.003207998213169134}, {\"index\": 74, \"Type\": \"B random\", \"Similarity\": -0.0028055355592140714}, {\"index\": 75, \"Type\": \"B random\", \"Similarity\": 0.008606491634729672}, {\"index\": 76, \"Type\": \"B random\", \"Similarity\": -0.013982263168509661}, {\"index\": 77, \"Type\": \"B random\", \"Similarity\": -0.014168812156273533}, {\"index\": 78, \"Type\": \"B random\", \"Similarity\": 0.0025587308249640233}, {\"index\": 79, \"Type\": \"B random\", \"Similarity\": -0.0016591954503157264}, {\"index\": 80, \"Type\": \"B random\", \"Similarity\": 0.005388413643916734}, {\"index\": 81, \"Type\": \"B random\", \"Similarity\": -0.0025744558436713518}, {\"index\": 82, \"Type\": \"B random\", \"Similarity\": -0.002285331056724809}, {\"index\": 83, \"Type\": \"B random\", \"Similarity\": -0.03994812249115378}, {\"index\": 84, \"Type\": \"B random\", \"Similarity\": 0.028057085706950567}, {\"index\": 85, \"Type\": \"B random\", \"Similarity\": -0.008844602537783443}, {\"index\": 86, \"Type\": \"B random\", \"Similarity\": -0.008595036024277008}, {\"index\": 87, \"Type\": \"B random\", \"Similarity\": -0.005645664111280183}, {\"index\": 88, \"Type\": \"B random\", \"Similarity\": 0.0016161968577176236}, {\"index\": 89, \"Type\": \"B random\", \"Similarity\": 0.011951906932350792}, {\"index\": 90, \"Type\": \"B random\", \"Similarity\": 0.003651799663126191}, {\"index\": 91, \"Type\": \"B random\", \"Similarity\": -0.008941798454600837}, {\"index\": 92, \"Type\": \"B random\", \"Similarity\": 0.028986729907483876}, {\"index\": 93, \"Type\": \"B random\", \"Similarity\": 0.014364799547407884}, {\"index\": 94, \"Type\": \"B random\", \"Similarity\": 0.004529481245192621}, {\"index\": 95, \"Type\": \"B random\", \"Similarity\": 0.01134371638761504}, {\"index\": 96, \"Type\": \"B random\", \"Similarity\": 0.0016402884067056077}, {\"index\": 97, \"Type\": \"B random\", \"Similarity\": 0.01288476496524621}, {\"index\": 98, \"Type\": \"B random\", \"Similarity\": 0.02644206174814212}, {\"index\": 99, \"Type\": \"B random\", \"Similarity\": 0.006030557289371078}]}}, {\"mode\": \"vega-lite\"});\n",
       "</script>"
      ],
      "text/plain": [
       "alt.Chart(...)"
      ]
     },
     "execution_count": 15,
     "metadata": {},
     "output_type": "execute_result"
    }
   ],
   "source": [
    "df_melted_b = df.reset_index().melt(\n",
    "    id_vars=\"index\", \n",
    "    value_vars=[\"B unbound\", \"B random\"], \n",
    "    var_name=\"Type\", \n",
    "    value_name=\"Similarity\"\n",
    ")\n",
    "\n",
    "\n",
    "chartb = alt.Chart(df_melted_b).mark_line().encode(\n",
    "    x=alt.X(\"index:Q\", title=\"Experiment #\"),\n",
    "    y=alt.Y(\"Similarity:Q\", title=\"Similarity\", scale=alt.Scale(domain=[-1, 1])),\n",
    "    color=alt.Color(\"Type:N\", title=\"Legend\"),  # adds a legend based on the \"Type\" column\n",
    "    tooltip=[\"index:Q\", \"Type:N\", \"Similarity:Q\"]\n",
    ").properties(\n",
    "    title=\"Similarity of B with Unbound vs Random Vectors\",\n",
    "    width=800,\n",
    "    height=300\n",
    ").configure_title(\n",
    "    fontSize=32,\n",
    "    anchor=\"start\"\n",
    ")\n",
    "chartb"
   ]
  },
  {
   "cell_type": "markdown",
   "id": "2978a27b-b32a-4e1a-a098-995a9798cbb7",
   "metadata": {},
   "source": [
    "## Experiment 3: Vector function algebra"
   ]
  },
  {
   "cell_type": "code",
   "execution_count": 16,
   "id": "a68fcce3-da47-427f-a775-e6609f2e80bb",
   "metadata": {},
   "outputs": [
    {
     "name": "stdout",
     "output_type": "stream",
     "text": [
      "Similarity between translated (before retrieval) image and image: -0.034808885133057715\n",
      "Similarity between retrieved image and image: 1.0\n"
     ]
    }
   ],
   "source": [
    "dim = 1000\n",
    "# define image hypervector and axis hypervectors\n",
    "hI, hx, hy = generate_hvs(dim), generate_hvs(dim), generate_hvs(dim)\n",
    "h_xneg2 = fractional_power(hx, -2)\n",
    "h_y2 = fractional_power(hy, 2)\n",
    "\n",
    "translate = binding(hI, h_xneg2, h_y2)\n",
    "print(f\"Similarity between translated (before retrieval) image and image: {similarity(translate, hI)}\")\n",
    "\n",
    "# conjugate is conceptually same as the inverse of the hypervector\n",
    "# binding with the conjugates of hx^-2 would be the same as binding with hx^2, etc. \n",
    "retrieve_image = binding(translate, np.conjugate(h_xneg2), np.conjugate(h_y2))\n",
    "print(f\"Similarity between retrieved image and image: {similarity(retrieve_image, hI)}\")"
   ]
  }
 ],
 "metadata": {
  "kernelspec": {
   "display_name": "Python 3 (ipykernel)",
   "language": "python",
   "name": "python3"
  },
  "language_info": {
   "codemirror_mode": {
    "name": "ipython",
    "version": 3
   },
   "file_extension": ".py",
   "mimetype": "text/x-python",
   "name": "python",
   "nbconvert_exporter": "python",
   "pygments_lexer": "ipython3",
   "version": "3.11.7"
  }
 },
 "nbformat": 4,
 "nbformat_minor": 5
}
