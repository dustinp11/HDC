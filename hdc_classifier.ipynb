{
 "cells": [
  {
   "cell_type": "code",
   "execution_count": 1,
   "id": "4dad5644-dc69-42ed-b390-adf53987293c",
   "metadata": {},
   "outputs": [],
   "source": [
    "import torchhd"
   ]
  },
  {
   "cell_type": "code",
   "execution_count": null,
   "id": "7409d8fa-708b-4e2c-abe5-b4a14b7cc00d",
   "metadata": {},
   "outputs": [],
   "source": [
    "def covariance_matrix(n):\n",
    "    pass\n",
    "    \n",
    "def gen_basis(D, n, distribution):\n",
    "    pass\n"
   ]
  },
  {
   "cell_type": "code",
   "execution_count": null,
   "id": "12807d43-497e-409b-88dc-20974ef5e3f5",
   "metadata": {},
   "outputs": [],
   "source": [
    "def encode_feature(C, features):\n",
    "    pass"
   ]
  },
  {
   "cell_type": "code",
   "execution_count": null,
   "id": "e349f533-7d8a-47c9-915b-a3ab70947e63",
   "metadata": {},
   "outputs": [],
   "source": []
  }
 ],
 "metadata": {
  "kernelspec": {
   "display_name": "Python 3 (ipykernel)",
   "language": "python",
   "name": "python3"
  },
  "language_info": {
   "codemirror_mode": {
    "name": "ipython",
    "version": 3
   },
   "file_extension": ".py",
   "mimetype": "text/x-python",
   "name": "python",
   "nbconvert_exporter": "python",
   "pygments_lexer": "ipython3",
   "version": "3.11.7"
  }
 },
 "nbformat": 4,
 "nbformat_minor": 5
}
