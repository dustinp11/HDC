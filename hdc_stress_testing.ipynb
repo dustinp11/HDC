{
 "cells": [
  {
   "cell_type": "code",
   "execution_count": 1,
   "id": "28fe0a2b-a8e5-4303-8b8a-f8e8414dceb2",
   "metadata": {},
   "outputs": [],
   "source": [
    "try:\n",
    "    import torchhd as hd\n",
    "    import torch\n",
    "    import string\n",
    "    import random\n",
    "    import time\n",
    "    from tqdm import tqdm\n",
    "    import numpy as np\n",
    "    import matplotlib.pyplot as plt\n",
    "except ImportError:\n",
    "    !pip install torch-hd"
   ]
  },
  {
   "cell_type": "code",
   "execution_count": 2,
   "id": "fe1901f6-0eea-4518-88db-a88c1247eb51",
   "metadata": {},
   "outputs": [
    {
     "name": "stdout",
     "output_type": "stream",
     "text": [
      "Numbers of symbols: 300\n"
     ]
    },
    {
     "name": "stderr",
     "output_type": "stream",
     "text": [
      "Checking number of edges: 100%|██████████| 44850/44850 [00:09<00:00, 4712.94it/s]"
     ]
    },
    {
     "name": "stdout",
     "output_type": "stream",
     "text": [
      "Number of edges in graph whose encoded hypervector could be found: 30266\n"
     ]
    },
    {
     "name": "stderr",
     "output_type": "stream",
     "text": [
      "\n"
     ]
    }
   ],
   "source": [
    "# initialize undirected, unweighted graph with 15,000 dimensional hypervectors\n",
    "G = hd.structures.Graph(15000, directed=False)\n",
    "\n",
    "# generate random hypervectors for nodes\n",
    "nums = [str(i) for i in range(300)]\n",
    "print(f\"Numbers of symbols: {len(nums)}\")\n",
    "\n",
    "nums_hv = hd.random(len(nums), 15000)\n",
    "\n",
    "# add all pairwise edges to the graph\n",
    "# there should be (300) choose 2 = 44,850 edges in the graph\n",
    "for i in range(len(nums_hv)):\n",
    "    for j in range(i + 1, len(nums_hv)):\n",
    "        G.add_edge(nums_hv[i], nums_hv[j])\n",
    "\n",
    "\n",
    "\n",
    "\n",
    "# check that 44,850 edges exist in the graph \n",
    "\n",
    "count = 0\n",
    "total_pairs = (len(nums) * (len(nums) - 1)) // 2\n",
    "with tqdm(total = total_pairs, desc=\"Checking number of edges\") as pbar:\n",
    "    progress = 0\n",
    "    for i in range(len(nums)):\n",
    "        for j in range(i + 1, len(nums)):\n",
    "            edge_hv = G.encode_edge(nums_hv[i], nums_hv[j])\n",
    "            contains = G.contains(edge_hv)\n",
    "            if contains >= 0.25: # some relatively low number to decrease threshold\n",
    "                count += 1\n",
    "            progress += 1\n",
    "            if progress == 10:\n",
    "                pbar.update(10)\n",
    "                progress = 0\n",
    "print(f\"Number of edges in graph whose encoded hypervector could be found: {count}\")\n",
    "\n",
    "G.clear()\n"
   ]
  },
  {
   "cell_type": "code",
   "execution_count": null,
   "id": "f4473593-d306-4a60-80cd-2a945734191b",
   "metadata": {},
   "outputs": [
    {
     "name": "stderr",
     "output_type": "stream",
     "text": [
      "Task i: Memorized patterns: 100%|██████████| 50/50 [00:01<00:00, 47.52it/s] \n"
     ]
    }
   ],
   "source": [
    "import torch\n",
    "import torchhd as hd\n",
    "import numpy as np\n",
    "import matplotlib.pyplot as plt\n",
    "from tqdm import tqdm\n",
    "\n",
    "# Parameters\n",
    "n = 250  # Number of symbols\n",
    "max_p = 50  # Max number of memorized patterns\n",
    "D_list = [10000, 15000, 20000]  # List of hyperdimensions\n",
    "noise_levels = [0, 0.1, 0.2, 0.3, 0.4, 0.5]  # Noise standard deviations\n",
    "\n",
    "# Generate random hypervectors for symbols\n",
    "symbols = [str(i) for i in range(n)]\n",
    "symbols_hv = hd.random(n, max(D_list))\n",
    "\n",
    "# Noise function: Adds Gaussian noise to hypervectors\n",
    "def add_noise(hv, noise_std):\n",
    "    noise = torch.normal(mean=0.0, std=noise_std, size=hv.shape).to(hv.device)\n",
    "    return hv + noise\n",
    "\n",
    "# Decoding function using cosine similarity\n",
    "def decode(noisy_hv, memorized_hvs):\n",
    "    similarities = torch.nn.functional.cosine_similarity(noisy_hv.unsqueeze(0), memorized_hvs)\n",
    "    return torch.argmax(similarities).item()\n",
    "\n",
    "# Task i: Decoding accuracy vs. memorized patterns (p)\n",
    "def decoding_accuracy_vs_patterns(n, symbols_hv, max_p, D):\n",
    "    accuracies = []\n",
    "    for p in tqdm(range(1, max_p + 1), desc=\"Task i: Memorized patterns\"):\n",
    "        # Randomly select `p` patterns to memorize\n",
    "        memorized_indices = np.random.choice(range(n), p, replace=False)\n",
    "        memorized_hvs = symbols_hv[memorized_indices, :D]\n",
    "\n",
    "        # Decode with noise\n",
    "        correct = 0\n",
    "        for i in range(p):\n",
    "            noisy_hv = add_noise(memorized_hvs[i], 0.1)  # Add noise\n",
    "            decoded_index = decode(noisy_hv, memorized_hvs)\n",
    "            if decoded_index == i:  # Check if correct\n",
    "                correct += 1\n",
    "        accuracy = correct / p\n",
    "        accuracies.append(accuracy)\n",
    "\n",
    "    # Plot results\n",
    "    plt.figure(figsize=(8, 5))\n",
    "    plt.plot(range(1, max_p + 1), accuracies, marker=\"o\", label=f\"D = {D}\")\n",
    "    plt.title(\"Decoding Accuracy vs. Memorized Patterns\")\n",
    "    plt.xlabel(\"Number of Memorized Patterns (p)\")\n",
    "    plt.ylabel(\"Decoding Accuracy\")\n",
    "    plt.grid()\n",
    "    plt.legend()\n",
    "    plt.show()\n",
    "\n",
    "# Task ii: Decoding accuracy vs. hyperdimension (D) and noise\n",
    "def decoding_accuracy_vs_hyperdimension_and_noise(n, symbols_hv, p, D_list, noise_levels):\n",
    "    results = np.zeros((len(D_list), len(noise_levels)))\n",
    "\n",
    "    for i, D in enumerate(tqdm(D_list, desc=\"Task ii: Hyperdimension\")):\n",
    "        for j, noise_std in enumerate(noise_levels):\n",
    "            # Select `p` patterns to memorize\n",
    "            memorized_indices = np.random.choice(range(n), p, replace=False)\n",
    "            memorized_hvs = symbols_hv[memorized_indices, :D]\n",
    "\n",
    "            # Decode with noise\n",
    "            correct = 0\n",
    "            for k in range(p):\n",
    "                noisy_hv = add_noise(memorized_hvs[k], noise_std)\n",
    "                decoded_index = decode(noisy_hv, memorized_hvs)\n",
    "                if decoded_index == k:\n",
    "                    correct += 1\n",
    "            accuracy = correct / p\n",
    "            results[i, j] = accuracy\n",
    "\n",
    "    # Plot heatmap\n",
    "    plt.figure(figsize=(10, 7))\n",
    "    plt.imshow(results, cmap=\"viridis\", aspect=\"auto\", origin=\"lower\",\n",
    "               extent=[min(noise_levels), max(noise_levels), min(D_list), max(D_list)])\n",
    "    plt.colorbar(label=\"Decoding Accuracy\")\n",
    "    plt.title(\"Decoding Accuracy vs. Hyperdimension and Noise\")\n",
    "    plt.xlabel(\"Noise Magnitude (Standard Deviation)\")\n",
    "    plt.ylabel(\"Hyperdimension (D)\")\n",
    "    plt.xticks(noise_levels)\n",
    "    plt.yticks(D_list)\n",
    "    plt.show()\n",
    "\n",
    "# Run Tasks\n",
    "decoding_accuracy_vs_patterns(n, symbols_hv, max_p, 15000)\n",
    "decoding_accuracy_vs_hyperdimension_and_noise(n, symbols_hv, 50, D_list, noise_levels)\n"
   ]
  },
  {
   "cell_type": "code",
   "execution_count": null,
   "id": "e6d31893-c1d8-4515-81c2-9d4a2d6e8cbc",
   "metadata": {},
   "outputs": [],
   "source": []
  }
 ],
 "metadata": {
  "kernelspec": {
   "display_name": "Python 3 (ipykernel)",
   "language": "python",
   "name": "python3"
  },
  "language_info": {
   "codemirror_mode": {
    "name": "ipython",
    "version": 3
   },
   "file_extension": ".py",
   "mimetype": "text/x-python",
   "name": "python",
   "nbconvert_exporter": "python",
   "pygments_lexer": "ipython3",
   "version": "3.11.7"
  }
 },
 "nbformat": 4,
 "nbformat_minor": 5
}
