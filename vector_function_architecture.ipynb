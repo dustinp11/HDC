{
 "cells": [
  {
   "cell_type": "code",
   "execution_count": 1,
   "id": "b20641ab-5fb5-4191-b6e9-d68baea02457",
   "metadata": {},
   "outputs": [],
   "source": [
    "import torchhd as hd\n",
    "import torch\n",
    "import string\n",
    "import numpy as np\n",
    "import pandas as pd\n",
    "import altair as alt"
   ]
  },
  {
   "cell_type": "markdown",
   "id": "343df274-faa0-4dc1-b2c4-c42c65e170b2",
   "metadata": {},
   "source": [
    "## 1) Complex Hypervector Representation"
   ]
  },
  {
   "cell_type": "code",
   "execution_count": 2,
   "id": "1f19c5e5-ffd2-4d28-8b6b-419fe0c13efe",
   "metadata": {},
   "outputs": [],
   "source": [
    "# generate a complex hypervector\n",
    "# represented as e^(i * theta) where theta between 0 and 2pi.\n",
    "def generate_hvs(dim) -> list:\n",
    "    angles = np.random.uniform(0, 2 * np.pi, dim)\n",
    "    return np.exp(1j * angles)"
   ]
  },
  {
   "cell_type": "code",
   "execution_count": 3,
   "id": "e50b99fe-dde0-4a5f-a52b-48bf3898e46d",
   "metadata": {
    "scrolled": true
   },
   "outputs": [
    {
     "name": "stdout",
     "output_type": "stream",
     "text": [
      "[array([ 0.01708065-0.99985412j,  0.40253037-0.91540663j,\n",
      "       -0.81029225+0.586026j  ,  0.33318722-0.94286069j,\n",
      "        0.27399831-0.96173017j,  0.84784093+0.53025065j,\n",
      "       -0.51875359-0.8549238j ,  0.99738096-0.07232713j,\n",
      "        0.76397849-0.64524172j, -0.99554491+0.09428856j]), array([ 0.54321818-0.83959157j, -0.81053516-0.58568998j,\n",
      "        0.48704371-0.87337759j,  0.03359937+0.99943538j,\n",
      "        0.56167218+0.82735987j,  0.2562608 -0.96660768j,\n",
      "        0.8701863 -0.49272285j,  0.8101189 +0.58626561j,\n",
      "       -0.59006937-0.80735255j,  0.84959484+0.52743588j]), array([-0.34001733-0.94041917j, -0.93505667-0.35449826j,\n",
      "       -0.6531891 +0.75719482j,  0.22354093+0.97469454j,\n",
      "       -0.54644157+0.83749723j,  0.85979965+0.51063154j,\n",
      "        0.8215712 +0.57010593j, -0.3819317 +0.92419055j,\n",
      "        0.5382204 -0.84280413j,  0.88610071-0.46349275j]), array([ 0.97547537-0.22010861j,  0.68618178+0.72743011j,\n",
      "       -0.34643781-0.93807294j, -0.48473322-0.87466205j,\n",
      "        0.62984188+0.77672338j, -0.76560793+0.64330746j,\n",
      "       -0.28344368-0.95898889j, -0.99984227-0.01776029j,\n",
      "        0.08783206+0.9961353j , -0.86335236+0.50460154j]), array([-0.94139988-0.33729256j,  0.54702029+0.83711934j,\n",
      "       -0.93334064+0.35899198j, -0.64798028+0.76165711j,\n",
      "       -0.73597198+0.677012j  , -0.22897161+0.9734331j ,\n",
      "       -0.71976978+0.69421283j,  0.57465742+0.81839406j,\n",
      "        0.92116309+0.38917678j, -0.75808188-0.65215939j]), array([ 0.88134699-0.47246956j, -0.21222545+0.97722073j,\n",
      "       -0.99837754-0.05694117j, -0.28120139-0.95964878j,\n",
      "       -0.16590275-0.98614212j, -0.46780351+0.88383249j,\n",
      "        0.69199474-0.72190254j, -0.99267162-0.12084307j,\n",
      "       -0.18883962-0.98200794j,  0.26044467-0.96548877j]), array([-0.82653651+0.56288311j,  0.92438062-0.38147145j,\n",
      "        0.89957053-0.43677553j, -0.65291915-0.75742761j,\n",
      "        0.21946092-0.97562129j, -0.47612393+0.87937819j,\n",
      "       -0.92401462+0.38235714j,  0.97905157-0.20361242j,\n",
      "        0.55332444-0.83296583j,  0.99831508-0.05802589j]), array([-0.97819226-0.20770146j, -0.99882896-0.04838092j,\n",
      "       -0.78980874+0.61335321j,  0.09280459+0.99568434j,\n",
      "       -0.01412041-0.9999003j , -0.99917689-0.0405654j ,\n",
      "       -0.88089339+0.47331474j, -0.6785264 +0.73457602j,\n",
      "       -0.69915412+0.71497099j, -0.20148004-0.97949262j]), array([-0.76346749+0.64584626j,  0.85310596+0.52173769j,\n",
      "        0.99937293+0.0354083j ,  0.25867552-0.96596427j,\n",
      "        0.62973424-0.77681065j,  0.48632886+0.87377585j,\n",
      "        0.11752583+0.99306983j,  0.74142296-0.67103799j,\n",
      "        0.34566516-0.93835792j,  0.483405  -0.87539683j]), array([ 0.6543068 +0.75622921j, -0.18816325+0.98213777j,\n",
      "       -0.75686642-0.6535696j ,  0.95098158+0.30924752j,\n",
      "       -0.83425545-0.55137814j,  0.97069438-0.24031735j,\n",
      "        0.99999647-0.00265881j,  0.26825176-0.96334884j,\n",
      "        0.93362971-0.35823954j,  0.56147388-0.82749446j]), array([ 0.20620784+0.97850822j,  0.88660938-0.46251898j,\n",
      "       -0.66442706-0.74735311j,  0.21171113+0.97733229j,\n",
      "        0.99986621-0.01635735j,  0.90980301-0.41504034j,\n",
      "       -0.81584891+0.57826513j, -0.97046056-0.24125984j,\n",
      "        0.53447177+0.84518633j,  0.99955575+0.02980451j]), array([ 0.14689638+0.98915189j,  0.80914398+0.58761043j,\n",
      "       -0.99949853-0.03166524j, -0.58096961-0.81392525j,\n",
      "        0.69613055+0.71791521j,  0.91128254+0.41178166j,\n",
      "       -0.78177888-0.62355576j, -0.45221801-0.89190743j,\n",
      "       -0.34083044+0.94012478j, -0.8691293 -0.49458494j]), array([-0.48758251+0.87307691j, -0.99998387+0.00567983j,\n",
      "       -0.44780448+0.89413151j, -0.98952533-0.14435932j,\n",
      "        0.79730435+0.60357747j, -0.98989396+0.14180953j,\n",
      "        0.78096677+0.62457258j,  0.99537106-0.09610651j,\n",
      "       -0.18591039+0.9825667j , -0.32861217-0.94446495j]), array([ 0.86536905+0.50113512j,  0.95658997+0.29143718j,\n",
      "       -0.22073876-0.97533297j,  0.98864321-0.15028172j,\n",
      "        0.48151872+0.8764358j ,  0.74187706+0.67053592j,\n",
      "        0.4927387 +0.87017732j,  0.35888869-0.93338036j,\n",
      "        0.74458074+0.66753241j,  0.02444892-0.99970108j]), array([-0.84496   -0.5348295j ,  0.37826478-0.92569744j,\n",
      "       -0.73859884-0.6741452j ,  0.40406454+0.91473048j,\n",
      "       -0.48895036+0.87231161j,  0.84337258+0.53732922j,\n",
      "       -0.23256916+0.97257986j,  0.96846181-0.24916202j,\n",
      "        0.15496832-0.98791944j,  0.34909673+0.93708669j]), array([-0.96724691-2.53837367e-01j, -0.86210092-5.06736617e-01j,\n",
      "       -0.99669659+8.12152375e-02j, -0.91881388+3.94691076e-01j,\n",
      "       -1.        +1.96254349e-05j, -0.5956343 +8.03255740e-01j,\n",
      "        0.15369229+9.88118758e-01j,  0.70175458-7.12418778e-01j,\n",
      "        0.97061748-2.40627742e-01j, -0.96388839-2.66306526e-01j]), array([-0.99451807+0.10456489j, -0.94371736-0.33075299j,\n",
      "        0.86086421-0.50883475j,  0.70437287+0.70983016j,\n",
      "        0.19989036+0.97981827j,  0.9314212 -0.36394306j,\n",
      "       -0.80893429+0.58789906j, -0.38391918-0.9233667j ,\n",
      "       -0.48665578+0.87359382j, -0.84953674+0.52752946j]), array([-0.84018919-0.5422934j , -0.75036873+0.66101949j,\n",
      "       -0.97882649+0.20469174j, -0.5724725 -0.81992392j,\n",
      "        0.91215076-0.40985485j,  0.96842689+0.24929774j,\n",
      "        0.43677957+0.89956857j,  0.90263697-0.43040271j,\n",
      "        0.93053201-0.36621057j, -0.69503768+0.71897331j]), array([ 0.14626927-0.98924481j,  0.75104907-0.66024639j,\n",
      "       -0.99100624+0.13381565j, -0.98388076+0.17882574j,\n",
      "        0.27787569-0.96061704j,  0.63852377+0.7696021j ,\n",
      "        0.78129104+0.62416689j, -0.70892107-0.70528782j,\n",
      "       -0.76510493-0.64390562j, -0.89230068-0.45144158j]), array([-0.85535168-0.51804777j, -0.96164545-0.2742955j ,\n",
      "       -0.21576869-0.97644451j, -0.50851831-0.86105118j,\n",
      "       -0.77698019-0.62952505j,  0.9231316 -0.38448413j,\n",
      "       -0.86451752+0.50260269j, -0.99831908-0.05795709j,\n",
      "        0.53477295+0.84499579j, -0.40696009+0.91344594j]), array([-0.13153715-0.99131124j, -0.97124133-0.23809722j,\n",
      "        0.57305928+0.81951392j,  0.96678196+0.25560249j,\n",
      "       -0.01249333+0.99992196j,  0.35003511-0.93673658j,\n",
      "        0.94734414+0.32021723j, -0.79337627+0.60873154j,\n",
      "       -0.95593818-0.29356804j,  0.43694282+0.89948928j]), array([ 0.25292686+0.9674854j ,  0.61931862+0.78513977j,\n",
      "       -0.98288396-0.18422574j,  0.93023931+0.36695344j,\n",
      "       -0.27518252+0.961392j  ,  0.85941351-0.51128115j,\n",
      "        0.85497465-0.51866978j,  0.09715467+0.9952693j ,\n",
      "        0.97581119-0.21861499j,  0.01945037+0.99981082j]), array([ 0.91756296+0.39759051j, -0.89516052-0.44574392j,\n",
      "       -0.1784775 -0.98394399j, -0.54219588-0.84025212j,\n",
      "       -0.94076415-0.33906167j,  0.42863302-0.90347869j,\n",
      "       -0.63030799-0.77634518j, -0.91558358+0.40212773j,\n",
      "       -0.92198994-0.38721382j,  0.81552715-0.57871881j]), array([ 0.1970881 +0.98038578j, -0.44604006-0.895013j  ,\n",
      "        0.98642368+0.16422033j, -0.01805807+0.99983694j,\n",
      "       -0.25164208-0.96782037j, -0.33497126+0.94222834j,\n",
      "        0.95018395+0.31168969j,  0.89061161+0.45476474j,\n",
      "        0.99925088+0.03869983j,  0.52215034-0.85285346j]), array([-0.99804255+0.06253848j, -0.18366363-0.98298915j,\n",
      "       -0.1526756 +0.98827636j,  0.99621709-0.08689947j,\n",
      "       -0.83224077-0.55441437j,  0.97178252-0.23587865j,\n",
      "       -0.22431857+0.97451587j, -0.62713536-0.77891029j,\n",
      "        0.82783372-0.56097355j,  0.03995796+0.99920136j]), array([-0.65497599-0.75564969j,  0.14232539-0.98981993j,\n",
      "       -0.86907287+0.49468409j,  0.75140669+0.65983937j,\n",
      "       -0.99562662-0.09342184j, -0.94455874+0.32834247j,\n",
      "       -0.47655384+0.87914529j, -0.93415286-0.35687312j,\n",
      "        0.99922669-0.03931944j,  0.99994675+0.01031998j])]\n"
     ]
    }
   ],
   "source": [
    "dim = 10\n",
    "alphabet = [X for X in string.ascii_uppercase]\n",
    "hvs = [generate_hvs(dim) for _ in alphabet]\n",
    "hx, hy = generate_hvs(dim), generate_hvs(dim)\n",
    "print(hvs)"
   ]
  },
  {
   "cell_type": "markdown",
   "id": "6c2272c4-c7f9-48ae-a25b-908c544f3a96",
   "metadata": {},
   "source": [
    "## 2 and 3) Binding, bundling, and similarity in FHRR"
   ]
  },
  {
   "cell_type": "code",
   "execution_count": 4,
   "id": "16b44b58-9569-4202-972d-2c1890b8c1d0",
   "metadata": {},
   "outputs": [],
   "source": [
    "# elementwise multiplication\n",
    "def binding(hx, hy): \n",
    "    return hx * hy\n",
    "\n",
    "# elementwise sum\n",
    "def bundling(*hvs):\n",
    "    bundles = np.sum(hvs, axis=0)\n",
    "    return bundles / np.abs(bundles)\n",
    "\n",
    "# define similarity as the real part of the Hermitian inner product of hx and hy divided by the dim of hx\n",
    "def similarity(hx, hy):\n",
    "    conjugate = np.conjugate(hy)\n",
    "    return np.real(np.dot(hx, conjugate)) / len(hx)"
   ]
  },
  {
   "cell_type": "markdown",
   "id": "f89d1208-3410-4c7b-a7ab-35f6a9ade6fd",
   "metadata": {},
   "source": [
    "## 4) Fractional Power Encoding"
   ]
  },
  {
   "cell_type": "code",
   "execution_count": 5,
   "id": "2c84ee15-903f-4b65-bae6-3d6b76a913ed",
   "metadata": {},
   "outputs": [],
   "source": [
    "def fractional_power(h, alpha):\n",
    "    angle = np.angle(h)\n",
    "    return np.exp(1j * alpha * angle)"
   ]
  },
  {
   "cell_type": "markdown",
   "id": "ee24beee-4101-4792-a48a-aaf592fb8ec3",
   "metadata": {},
   "source": [
    "## 5) Experiments"
   ]
  },
  {
   "cell_type": "markdown",
   "id": "850d8919-8a36-452c-b68d-63c1e914f3dd",
   "metadata": {},
   "source": [
    "<font color=\"red\">Similarity vs Fractional Power"
   ]
  },
  {
   "cell_type": "code",
   "execution_count": 11,
   "id": "62445aa8-bdbf-4589-b23b-f5370cf552dc",
   "metadata": {},
   "outputs": [
    {
     "data": {
      "text/html": [
       "\n",
       "<style>\n",
       "  #altair-viz-706c76b722754ac6ae71c7521f0e5d79.vega-embed {\n",
       "    width: 100%;\n",
       "    display: flex;\n",
       "  }\n",
       "\n",
       "  #altair-viz-706c76b722754ac6ae71c7521f0e5d79.vega-embed details,\n",
       "  #altair-viz-706c76b722754ac6ae71c7521f0e5d79.vega-embed details summary {\n",
       "    position: relative;\n",
       "  }\n",
       "</style>\n",
       "<div id=\"altair-viz-706c76b722754ac6ae71c7521f0e5d79\"></div>\n",
       "<script type=\"text/javascript\">\n",
       "  var VEGA_DEBUG = (typeof VEGA_DEBUG == \"undefined\") ? {} : VEGA_DEBUG;\n",
       "  (function(spec, embedOpt){\n",
       "    let outputDiv = document.currentScript.previousElementSibling;\n",
       "    if (outputDiv.id !== \"altair-viz-706c76b722754ac6ae71c7521f0e5d79\") {\n",
       "      outputDiv = document.getElementById(\"altair-viz-706c76b722754ac6ae71c7521f0e5d79\");\n",
       "    }\n",
       "    const paths = {\n",
       "      \"vega\": \"https://cdn.jsdelivr.net/npm/vega@5?noext\",\n",
       "      \"vega-lib\": \"https://cdn.jsdelivr.net/npm/vega-lib?noext\",\n",
       "      \"vega-lite\": \"https://cdn.jsdelivr.net/npm/vega-lite@5.8.0?noext\",\n",
       "      \"vega-embed\": \"https://cdn.jsdelivr.net/npm/vega-embed@6?noext\",\n",
       "    };\n",
       "\n",
       "    function maybeLoadScript(lib, version) {\n",
       "      var key = `${lib.replace(\"-\", \"\")}_version`;\n",
       "      return (VEGA_DEBUG[key] == version) ?\n",
       "        Promise.resolve(paths[lib]) :\n",
       "        new Promise(function(resolve, reject) {\n",
       "          var s = document.createElement('script');\n",
       "          document.getElementsByTagName(\"head\")[0].appendChild(s);\n",
       "          s.async = true;\n",
       "          s.onload = () => {\n",
       "            VEGA_DEBUG[key] = version;\n",
       "            return resolve(paths[lib]);\n",
       "          };\n",
       "          s.onerror = () => reject(`Error loading script: ${paths[lib]}`);\n",
       "          s.src = paths[lib];\n",
       "        });\n",
       "    }\n",
       "\n",
       "    function showError(err) {\n",
       "      outputDiv.innerHTML = `<div class=\"error\" style=\"color:red;\">${err}</div>`;\n",
       "      throw err;\n",
       "    }\n",
       "\n",
       "    function displayChart(vegaEmbed) {\n",
       "      vegaEmbed(outputDiv, spec, embedOpt)\n",
       "        .catch(err => showError(`Javascript Error: ${err.message}<br>This usually means there's a typo in your chart specification. See the javascript console for the full traceback.`));\n",
       "    }\n",
       "\n",
       "    if(typeof define === \"function\" && define.amd) {\n",
       "      requirejs.config({paths});\n",
       "      require([\"vega-embed\"], displayChart, err => showError(`Error loading script: ${err.message}`));\n",
       "    } else {\n",
       "      maybeLoadScript(\"vega\", \"5\")\n",
       "        .then(() => maybeLoadScript(\"vega-lite\", \"5.8.0\"))\n",
       "        .then(() => maybeLoadScript(\"vega-embed\", \"6\"))\n",
       "        .catch(showError)\n",
       "        .then(() => displayChart(vegaEmbed));\n",
       "    }\n",
       "  })({\"config\": {\"view\": {\"continuousWidth\": 300, \"continuousHeight\": 300}}, \"data\": {\"name\": \"data-70cc401dda1bcd9b26ead3a09bf99bf2\"}, \"mark\": {\"type\": \"line\", \"color\": \"red\", \"interpolate\": \"monotone\"}, \"encoding\": {\"x\": {\"field\": \"Alphas\", \"type\": \"quantitative\"}, \"y\": {\"field\": \"Similarities\", \"type\": \"quantitative\"}}, \"$schema\": \"https://vega.github.io/schema/vega-lite/v5.8.0.json\", \"datasets\": {\"data-70cc401dda1bcd9b26ead3a09bf99bf2\": [{\"Alphas\": -10.0, \"Similarities\": -0.12927654020900833}, {\"Alphas\": -9.0, \"Similarities\": 0.012973922955874524}, {\"Alphas\": -8.0, \"Similarities\": -0.09604396936037439}, {\"Alphas\": -7.0, \"Similarities\": 0.03937453701081536}, {\"Alphas\": -6.0, \"Similarities\": 0.0432900764478624}, {\"Alphas\": -5.0, \"Similarities\": -0.2064072813170372}, {\"Alphas\": -4.0, \"Similarities\": 0.14215358320115473}, {\"Alphas\": -3.0, \"Similarities\": -0.006513836929797287}, {\"Alphas\": -2.0, \"Similarities\": -0.0665139874265291}, {\"Alphas\": -1.0, \"Similarities\": 0.024100176341306963}, {\"Alphas\": 0.0, \"Similarities\": -0.05850754491244883}, {\"Alphas\": 1.0, \"Similarities\": 1.0}, {\"Alphas\": 2.0, \"Similarities\": -0.05850754491244881}, {\"Alphas\": 3.0, \"Similarities\": 0.024100176341307043}, {\"Alphas\": 4.0, \"Similarities\": -0.0665139874265291}, {\"Alphas\": 5.0, \"Similarities\": -0.006513836929797385}, {\"Alphas\": 6.0, \"Similarities\": 0.14215358320115468}, {\"Alphas\": 7.0, \"Similarities\": -0.20640728131703717}, {\"Alphas\": 8.0, \"Similarities\": 0.04329007644786242}, {\"Alphas\": 9.0, \"Similarities\": 0.03937453701081543}, {\"Alphas\": 10.0, \"Similarities\": -0.09604396936037433}]}}, {\"mode\": \"vega-lite\"});\n",
       "</script>"
      ],
      "text/plain": [
       "alt.Chart(...)"
      ]
     },
     "execution_count": 11,
     "metadata": {},
     "output_type": "execute_result"
    }
   ],
   "source": [
    "dim = 100\n",
    "hx = generate_hvs(dim)\n",
    "\n",
    "# alpha in [-10, 10] with step size 1\n",
    "alphas = np.linspace(-10, 10, 21)\n",
    "\n",
    "# get similarities for all fractional powers\n",
    "similarities = [similarity(hx, fractional_power(hx, alpha)) for alpha in alphas]\n",
    "\n",
    "\n",
    "# put into dataframe and make into altair chart\n",
    "df = pd.DataFrame({\"Alphas\": alphas, \"Similarities\": similarities})\n",
    "\n",
    "chart = alt.Chart(df).mark_line(interpolate=\"monotone\", color=\"red\").encode(\n",
    "    x = \"Alphas\",\n",
    "    y = \"Similarities\"\n",
    ")\n",
    "chart\n",
    "# Plot the similarity\n",
    "# plt.plot(alphas, similarities, marker='o')\n",
    "# plt.xlabel(\"alpha\")\n",
    "# plt.ylabel(\"hx to the alpha\")\n",
    "# plt.title('Similarity vs. Fractional Power')\n",
    "# plt.grid(True)\n",
    "# plt.show()\n"
   ]
  },
  {
   "cell_type": "code",
   "execution_count": null,
   "id": "d8485388-f712-4a39-ad50-444000f8de55",
   "metadata": {},
   "outputs": [],
   "source": []
  },
  {
   "cell_type": "code",
   "execution_count": null,
   "id": "31841879-1086-4c9c-8cf5-0a4907c6ea48",
   "metadata": {},
   "outputs": [],
   "source": []
  }
 ],
 "metadata": {
  "kernelspec": {
   "display_name": "Python 3 (ipykernel)",
   "language": "python",
   "name": "python3"
  },
  "language_info": {
   "codemirror_mode": {
    "name": "ipython",
    "version": 3
   },
   "file_extension": ".py",
   "mimetype": "text/x-python",
   "name": "python",
   "nbconvert_exporter": "python",
   "pygments_lexer": "ipython3",
   "version": "3.11.7"
  }
 },
 "nbformat": 4,
 "nbformat_minor": 5
}
